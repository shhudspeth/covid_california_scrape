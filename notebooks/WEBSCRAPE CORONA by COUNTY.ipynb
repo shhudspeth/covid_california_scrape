{
 "cells": [
  {
   "cell_type": "code",
   "execution_count": null,
   "metadata": {},
   "outputs": [],
   "source": [
    "## WEBSCRAPE INFO"
   ]
  },
  {
   "cell_type": "code",
   "execution_count": 1,
   "metadata": {},
   "outputs": [],
   "source": [
    "import pandas as pd"
   ]
  },
  {
   "cell_type": "code",
   "execution_count": 10,
   "metadata": {},
   "outputs": [],
   "source": [
    "df_counties = pd.read_csv('../data/california_counties_FIP.csv', )"
   ]
  },
  {
   "cell_type": "code",
   "execution_count": 15,
   "metadata": {},
   "outputs": [
    {
     "data": {
      "text/html": [
       "<div>\n",
       "<style scoped>\n",
       "    .dataframe tbody tr th:only-of-type {\n",
       "        vertical-align: middle;\n",
       "    }\n",
       "\n",
       "    .dataframe tbody tr th {\n",
       "        vertical-align: top;\n",
       "    }\n",
       "\n",
       "    .dataframe thead th {\n",
       "        text-align: right;\n",
       "    }\n",
       "</style>\n",
       "<table border=\"1\" class=\"dataframe\">\n",
       "  <thead>\n",
       "    <tr style=\"text-align: right;\">\n",
       "      <th></th>\n",
       "      <th>index</th>\n",
       "      <th>COUNTYFIP</th>\n",
       "      <th>HealthWebsite</th>\n",
       "    </tr>\n",
       "  </thead>\n",
       "  <tbody>\n",
       "    <tr>\n",
       "      <th>0</th>\n",
       "      <td>Alameda</td>\n",
       "      <td>1</td>\n",
       "      <td>?</td>\n",
       "    </tr>\n",
       "    <tr>\n",
       "      <th>1</th>\n",
       "      <td>Amador</td>\n",
       "      <td>5</td>\n",
       "      <td>?</td>\n",
       "    </tr>\n",
       "    <tr>\n",
       "      <th>2</th>\n",
       "      <td>Butte</td>\n",
       "      <td>7</td>\n",
       "      <td>?</td>\n",
       "    </tr>\n",
       "    <tr>\n",
       "      <th>3</th>\n",
       "      <td>Calaveras</td>\n",
       "      <td>9</td>\n",
       "      <td>?</td>\n",
       "    </tr>\n",
       "    <tr>\n",
       "      <th>4</th>\n",
       "      <td>Contra Costa</td>\n",
       "      <td>13</td>\n",
       "      <td>?</td>\n",
       "    </tr>\n",
       "  </tbody>\n",
       "</table>\n",
       "</div>"
      ],
      "text/plain": [
       "          index  COUNTYFIP HealthWebsite\n",
       "0       Alameda          1             ?\n",
       "1        Amador          5             ?\n",
       "2         Butte          7             ?\n",
       "3     Calaveras          9             ?\n",
       "4  Contra Costa         13             ?"
      ]
     },
     "execution_count": 15,
     "metadata": {},
     "output_type": "execute_result"
    }
   ],
   "source": [
    "df_counties.head()"
   ]
  },
  {
   "cell_type": "code",
   "execution_count": 13,
   "metadata": {},
   "outputs": [],
   "source": [
    "df_counties['HealthWebsite'] = '?'"
   ]
  },
  {
   "cell_type": "code",
   "execution_count": 20,
   "metadata": {},
   "outputs": [],
   "source": [
    "df_counties.iloc[0,2] = 'https://www.coronavirus.cchealth.org/'"
   ]
  },
  {
   "cell_type": "code",
   "execution_count": 21,
   "metadata": {},
   "outputs": [
    {
     "data": {
      "text/plain": [
       "'https://www.coronavirus.cchealth.org/'"
      ]
     },
     "execution_count": 21,
     "metadata": {},
     "output_type": "execute_result"
    }
   ],
   "source": [
    "df_counties.iloc[0,2] "
   ]
  },
  {
   "cell_type": "code",
   "execution_count": 22,
   "metadata": {},
   "outputs": [
    {
     "ename": "ModuleNotFoundError",
     "evalue": "No module named 'BeautifulSoup'",
     "output_type": "error",
     "traceback": [
      "\u001b[0;31m---------------------------------------------------------------------------\u001b[0m",
      "\u001b[0;31mModuleNotFoundError\u001b[0m                       Traceback (most recent call last)",
      "\u001b[0;32m<ipython-input-22-ad1a75b85793>\u001b[0m in \u001b[0;36m<module>\u001b[0;34m\u001b[0m\n\u001b[0;32m----> 1\u001b[0;31m \u001b[0;32mimport\u001b[0m \u001b[0mBeautifulSoup\u001b[0m\u001b[0;34m\u001b[0m\u001b[0;34m\u001b[0m\u001b[0m\n\u001b[0m",
      "\u001b[0;31mModuleNotFoundError\u001b[0m: No module named 'BeautifulSoup'"
     ]
    }
   ],
   "source": [
    "import BeautifulSoup"
   ]
  },
  {
   "cell_type": "code",
   "execution_count": 26,
   "metadata": {},
   "outputs": [],
   "source": [
    "#import various python libraries\n",
    "import requests\n",
    "import csv\n",
    "import bs4\n",
    "import re\n",
    "import pandas as pd"
   ]
  },
  {
   "cell_type": "code",
   "execution_count": 27,
   "metadata": {},
   "outputs": [
    {
     "name": "stdout",
     "output_type": "stream",
     "text": [
      "200\n"
     ]
    }
   ],
   "source": [
    "# Checks that the website sends a good response code\n",
    "response = requests.get(\"https://www.cdph.ca.gov/Pages/LocalHealthServicesAndOffices.aspx#\")\n",
    "print(response.status_code)"
   ]
  },
  {
   "cell_type": "code",
   "execution_count": 29,
   "metadata": {},
   "outputs": [],
   "source": [
    "link = \"https://www.cdph.ca.gov/Pages/LocalHealthServicesAndOffices.aspx#\""
   ]
  },
  {
   "cell_type": "code",
   "execution_count": 110,
   "metadata": {},
   "outputs": [
    {
     "name": "stdout",
     "output_type": "stream",
     "text": [
      "CA_health_sites.csv\r\n",
      "COVID19 food, income, healthcare insecurity.ipynb\r\n",
      "Census BUREAU EDA.ipynb\r\n",
      "Census Bureau Data Analysis.ipynb\r\n",
      "Census Tract Level Analysis Income and Food.ipynb\r\n",
      "Folium Chloropeth.ipynb\r\n",
      "Food_desert_Data.ipynb\r\n",
      "GeoJSON_and_choropleth_11.html\r\n",
      "Low Income Rate vs Mean Poverty Rate.png\r\n",
      "Mean Poverty Rate of Census Tracts per County.png\r\n",
      "Mean Poverty Rate vs. Low Income Rate.png\r\n",
      "Percent Low Income per County.png\r\n",
      "Population BayArea.png\r\n",
      "SIMPLE DECISION TREE.ipynb\r\n",
      "ScatterPopLOWi.png\r\n",
      "US Food Desert Analysis.ipynb\r\n",
      "Untitled.ipynb\r\n",
      "WEBSCRAPE CORONA by COUNTY.ipynb\r\n",
      "bay_area.json\r\n",
      "bay_area_warehouses.csv\r\n",
      "bay_area_zips_and_cities.csv\r\n",
      "bay_areafile.json\r\n",
      "bayarea.json\r\n",
      "california_counties_FIP.csv\r\n",
      "county_codes.csv\r\n",
      "fast_food_bay.csv\r\n",
      "food_low_income_bay.csv\r\n",
      "healthworkers_by_county\r\n",
      "percent Low Income.png\r\n",
      "top_14_cities by PUMA-census_density.csv\r\n",
      "top_cities_healthcare_workers.csv\r\n",
      "variable_CB.csv\r\n",
      "variable_explanations.csv\r\n"
     ]
    }
   ],
   "source": [
    "!ls"
   ]
  },
  {
   "cell_type": "code",
   "execution_count": 30,
   "metadata": {},
   "outputs": [],
   "source": [
    "page = requests.get(link)\n",
    "html = page.content\n",
    "soup = bs4.BeautifulSoup(html, \"html.parser\")"
   ]
  },
  {
   "cell_type": "code",
   "execution_count": 76,
   "metadata": {},
   "outputs": [],
   "source": [
    "ids = ['A', 'B', 'C','D','E','F','G','H','I']\n",
    "all_ul = soup.find_all('div',class_=\"col-xs-12\" )\n",
    "count = 0\n",
    "counties_site_dict = {}\n",
    "for x in all_ul:\n",
    "    ids = x.find_all('a')\n",
    "    if count ==7:\n",
    "        for a_ in ids:\n",
    "            link_a = a_.get('href')\n",
    "            title_a = a_.get('title')\n",
    "            if link_a and title_a:\n",
    "                if len(title_a) > 4:\n",
    "                    counties_site_dict[title_a] = link_a\n",
    "                \n",
    "                \n",
    "            \n",
    "    count += 1"
   ]
  },
  {
   "cell_type": "code",
   "execution_count": 103,
   "metadata": {},
   "outputs": [],
   "source": [
    "county_sites = county_sites.rename(columns={'index':'County'}).reset_index()"
   ]
  },
  {
   "cell_type": "code",
   "execution_count": 108,
   "metadata": {},
   "outputs": [],
   "source": [
    "county_sites.rename(columns={'index':'County'}, inplace=True)"
   ]
  },
  {
   "cell_type": "code",
   "execution_count": 111,
   "metadata": {},
   "outputs": [],
   "source": [
    "county_sites.to_csv('CA_health_sites.csv', index=False)"
   ]
  },
  {
   "cell_type": "code",
   "execution_count": null,
   "metadata": {},
   "outputs": [],
   "source": [
    "county_sites = pd.DataFrame.from_dict(counties_site_dict, orient='index').rename( columns={0:'Website'})"
   ]
  },
  {
   "cell_type": "code",
   "execution_count": null,
   "metadata": {},
   "outputs": [],
   "source": []
  }
 ],
 "metadata": {
  "kernelspec": {
   "display_name": "Python 3",
   "language": "python",
   "name": "python3"
  },
  "language_info": {
   "codemirror_mode": {
    "name": "ipython",
    "version": 3
   },
   "file_extension": ".py",
   "mimetype": "text/x-python",
   "name": "python",
   "nbconvert_exporter": "python",
   "pygments_lexer": "ipython3",
   "version": "3.7.6"
  }
 },
 "nbformat": 4,
 "nbformat_minor": 4
}
