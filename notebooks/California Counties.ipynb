{
 "cells": [
  {
   "cell_type": "code",
   "execution_count": 9,
   "metadata": {},
   "outputs": [],
   "source": [
    "#import various python libraries\n",
    "import requests\n",
    "import csv\n",
    "import bs4\n",
    "import re\n",
    "import pandas as pd\n",
    "import seaborn\n",
    "import matplotlib.pyplot as plt\n",
    "from datetime import date\n",
    "today = date.today()"
   ]
  },
  {
   "cell_type": "code",
   "execution_count": 990,
   "metadata": {},
   "outputs": [],
   "source": []
  },
  {
   "cell_type": "code",
   "execution_count": 13,
   "metadata": {},
   "outputs": [],
   "source": [
    "# Load Data Files\n",
    "df = pd.read_csv('../data/CA_Coronovirus_Websites_by_county.csv')"
   ]
  },
  {
   "cell_type": "code",
   "execution_count": 14,
   "metadata": {},
   "outputs": [],
   "source": [
    "# Scraper helper function\n",
    "def regex_paragraph_1(list_level_1):  \n",
    "    '''\n",
    "    Makes a 'paragraph' of text from a list in order to perform REGEX..\n",
    "    Returns a text of combined strings for parsing. \n",
    "    '''\n",
    "    paragraph = ''\n",
    "    for x in list_level_1: \n",
    "            paragraph += x + ' '\n",
    "    return(paragraph)\n"
   ]
  },
  {
   "cell_type": "code",
   "execution_count": 15,
   "metadata": {},
   "outputs": [],
   "source": [
    "# SAVE YESTERDAYS COLUMN NAMES AND TIMESTAMPS\n",
    "\n",
    "def save_yesterday_data (cases=None, deaths=None, tests=None, recovered_p=None):\n",
    "    if tests:\n",
    "        yesterday_tests = tests\n",
    "    if cases:\n",
    "        yesterday_cases = cases\n",
    "    if deaths:\n",
    "        yesterday_deaths = deaths\n",
    "    if recovered_p:\n",
    "        yesterday_recovered = recovered\n",
    "    return(yesterday_cases,yesterday_deaths,yesterday_tests,yesterday_recovered)\n",
    "\n",
    "y_c, y_d, y_t, y_r = save_yesterday_data(cases=name, deaths=string_, tests=test_admin,recovered_p=recovered)\n",
    "\n",
    "# Initial Current TImestamp columns to yesterday values\n",
    "df[name] = df[y_c]\n",
    "df[string_] = df[y_d]\n",
    "df[recovered] = df[y_r]\n",
    "df[test_admin] = df[y_t]"
   ]
  },
  {
   "cell_type": "code",
   "execution_count": 16,
   "metadata": {},
   "outputs": [],
   "source": [
    "# Make Columns with CURRENT TIMESTAMP\n",
    "test_admin = str(today) +\" Tests\" \n",
    "name = str(today)+' Confirmed Cases'\n",
    "string_ = str(today) +' Deaths' \n",
    "recovered = str(today)+ ' Recovered'\n"
   ]
  },
  {
   "cell_type": "code",
   "execution_count": 22,
   "metadata": {},
   "outputs": [],
   "source": [
    "# Function that checks website accuracy and does initial soup work\n",
    "def initial_study(county_no):\n",
    "    print(df.loc[county_no])\n",
    "    print(df.loc[county_no,'Website'])\n",
    "    \n",
    "    # Optional Soup Error Checking\n",
    "    # soup_c = soups[county_no].find_all('div')\n",
    "    # for x in soup_c:\n",
    "        # print(x)\n",
    "    \n",
    "    "
   ]
  },
  {
   "cell_type": "code",
   "execution_count": 23,
   "metadata": {},
   "outputs": [
    {
     "name": "stdout",
     "output_type": "stream",
     "text": [
      "County                                        Berkeley\n",
      "Website    https://www.cityofberkeley.info/coronavirus\n",
      "Name: 3, dtype: object\n",
      "https://www.cityofberkeley.info/coronavirus\n"
     ]
    }
   ],
   "source": [
    "initial_study(3)"
   ]
  },
  {
   "cell_type": "code",
   "execution_count": 24,
   "metadata": {},
   "outputs": [],
   "source": [
    "# A beautiful soup web scraping function\n",
    "def run_bs4(link, lxml=None):\n",
    "    user_agent = 'Mozilla/5.0 (Macintosh; Intel Mac OS X 10_14_6) AppleWebKit/537.36 (KHTML, like Gecko) Chrome/80.0.3987.122 Safari/537.36'\n",
    "    headers = {'User-Agent': user_agent}\n",
    "    page = requests.get(link)\n",
    "    html = page.content\n",
    "    soup = bs4.BeautifulSoup(html, 'html.parser')\n",
    "    return(soup)"
   ]
  },
  {
   "cell_type": "code",
   "execution_count": 25,
   "metadata": {},
   "outputs": [],
   "source": [
    "# SCRAPES COUNTY PUBLIC HEALTH WEBSITES\n",
    "soups= []\n",
    "for x in df['Website']:\n",
    "    s = run_bs4(x)\n",
    "    soups.append(s)"
   ]
  },
  {
   "cell_type": "markdown",
   "metadata": {},
   "source": [
    "## BERKLEY\n"
   ]
  },
  {
   "cell_type": "code",
   "execution_count": 735,
   "metadata": {},
   "outputs": [
    {
     "data": {
      "text/plain": [
       "County                                                           Berkeley\n",
       "Website                       https://www.cityofberkeley.info/coronavirus\n",
       "2020-04-02 Confirmed Cases                                             23\n",
       "2020-04-02 Deaths                                                     NaN\n",
       "2020-04-02 Tests                                                      NaN\n",
       "2020-04-02 Recovered                                                  NaN\n",
       "Name: 3, dtype: object"
      ]
     },
     "execution_count": 735,
     "metadata": {},
     "output_type": "execute_result"
    }
   ],
   "source": [
    "for x in soups[3].find_all('p'):\n",
    "    if 'cases' in str(x):\n",
    "        try:\n",
    "            text = x.find('strong').find(text=True)\n",
    "        except:\n",
    "            pass\n",
    "df.loc[3, name]= text\n",
    "df.loc[3]"
   ]
  },
  {
   "cell_type": "markdown",
   "metadata": {},
   "source": [
    "# Alameda"
   ]
  },
  {
   "cell_type": "code",
   "execution_count": 942,
   "metadata": {},
   "outputs": [
    {
     "name": "stdout",
     "output_type": "stream",
     "text": [
      "http://www.acphd.org/2019-ncov.aspx\n"
     ]
    }
   ],
   "source": [
    "print(df.loc[0, 'Website'])"
   ]
  },
  {
   "cell_type": "code",
   "execution_count": 943,
   "metadata": {},
   "outputs": [],
   "source": [
    "with open('../webpages/Coronavirus Disease (COVID-19) - ACPHD.mhtml', 'r') as htm:\n",
    "    soups[0] = htm.read()"
   ]
  },
  {
   "cell_type": "code",
   "execution_count": 944,
   "metadata": {},
   "outputs": [
    {
     "data": {
      "text/plain": [
       "'373'"
      ]
     },
     "execution_count": 944,
     "metadata": {},
     "output_type": "execute_result"
    }
   ],
   "source": [
    "cases = re.findall(r'Positive Cases: <em>([0-9]+)', soups[0])[0]\n",
    "\n",
    "cases"
   ]
  },
  {
   "cell_type": "code",
   "execution_count": 945,
   "metadata": {},
   "outputs": [
    {
     "data": {
      "text/plain": [
       "'9'"
      ]
     },
     "execution_count": 945,
     "metadata": {},
     "output_type": "execute_result"
    }
   ],
   "source": [
    "deaths = re.findall(r'Deaths: <em>([0-9]+)', soups[0])[0]\n",
    "\n",
    "deaths"
   ]
  },
  {
   "cell_type": "code",
   "execution_count": 946,
   "metadata": {},
   "outputs": [],
   "source": [
    "df.loc[0, name]= cases\n",
    "df.loc[0, string_] = deaths"
   ]
  },
  {
   "cell_type": "markdown",
   "metadata": {},
   "source": [
    "## ALPINE"
   ]
  },
  {
   "cell_type": "code",
   "execution_count": 740,
   "metadata": {},
   "outputs": [
    {
     "data": {
      "text/plain": [
       "County                                                            Alpine\n",
       "Website                       http://alpinecountyca.gov/AlertCenter.aspx\n",
       "2020-04-02 Confirmed Cases                                           NaN\n",
       "2020-04-02 Deaths                                                    NaN\n",
       "2020-04-02 Tests                                                     NaN\n",
       "2020-04-02 Recovered                                                 NaN\n",
       "Name: 1, dtype: object"
      ]
     },
     "execution_count": 740,
     "metadata": {},
     "output_type": "execute_result"
    }
   ],
   "source": [
    "df.iloc[1]"
   ]
  },
  {
   "cell_type": "code",
   "execution_count": 741,
   "metadata": {},
   "outputs": [
    {
     "data": {
      "text/plain": [
       "County                                                            Alpine\n",
       "Website                       http://alpinecountyca.gov/AlertCenter.aspx\n",
       "2020-04-02 Confirmed Cases                                             0\n",
       "2020-04-02 Deaths                                                      0\n",
       "2020-04-02 Tests                                                       0\n",
       "2020-04-02 Recovered                                                   0\n",
       "Name: 1, dtype: object"
      ]
     },
     "execution_count": 741,
     "metadata": {},
     "output_type": "execute_result"
    }
   ],
   "source": [
    "df.iloc[1].fillna(0)"
   ]
  },
  {
   "cell_type": "markdown",
   "metadata": {},
   "source": [
    "## Amador"
   ]
  },
  {
   "cell_type": "code",
   "execution_count": 742,
   "metadata": {},
   "outputs": [
    {
     "data": {
      "text/plain": [
       "'3'"
      ]
     },
     "execution_count": 742,
     "metadata": {},
     "output_type": "execute_result"
    }
   ],
   "source": [
    "#amador\n",
    "paragraph = ''\n",
    "for x in soups[2].find_all('span'):\n",
    "    for y in x.find_all(text=True):\n",
    "        paragraph +=  y.strip()+ ' '\n",
    "    \n",
    "    \n",
    "# print(paragraph)    \n",
    "cases = re.findall(r'Cases As of [A-Z][a-z]+ [0-9]+, [0-9]+: ([0-9]+)', paragraph)[0]\n",
    "# print(cases)\n",
    "df.loc[2, name] = cases\n",
    "df.loc[2, name]"
   ]
  },
  {
   "cell_type": "markdown",
   "metadata": {},
   "source": [
    "## BUTTE"
   ]
  },
  {
   "cell_type": "code",
   "execution_count": 743,
   "metadata": {},
   "outputs": [
    {
     "data": {
      "text/plain": [
       "County                                                                    Butte\n",
       "Website                       http://www.buttecounty.net/publichealth/Home.aspx\n",
       "2020-04-02 Confirmed Cases                                                   10\n",
       "2020-04-02 Deaths                                                             0\n",
       "2020-04-02 Tests                                                            NaN\n",
       "2020-04-02 Recovered                                                        NaN\n",
       "Name: 4, dtype: object"
      ]
     },
     "execution_count": 743,
     "metadata": {},
     "output_type": "execute_result"
    }
   ],
   "source": [
    "df.loc[4]"
   ]
  },
  {
   "cell_type": "code",
   "execution_count": 744,
   "metadata": {},
   "outputs": [],
   "source": [
    "paragraph = ''\n",
    "for no, x in enumerate(soups[4].find_all('td')):\n",
    "    \n",
    "    if 'Total' in str(x):\n",
    "         paragraph += soups[4].find_all('td')[no+1].find(text=True).strip() + ' '\n",
    "cases = re.findall(r'([0-9]+) ([0-9]+)', paragraph)[0]\n",
    "df.loc[4,name] = re.findall(r'([0-9]+) ([0-9]+)', paragraph)[0][0]\n",
    "df.loc[4, string_] = re.findall(r'([0-9]+) ([0-9]+)', paragraph)[0][1]"
   ]
  },
  {
   "cell_type": "code",
   "execution_count": null,
   "metadata": {},
   "outputs": [],
   "source": []
  },
  {
   "cell_type": "markdown",
   "metadata": {},
   "source": [
    "## Calaveras"
   ]
  },
  {
   "cell_type": "code",
   "execution_count": 745,
   "metadata": {},
   "outputs": [
    {
     "name": "stdout",
     "output_type": "stream",
     "text": [
      "['Number of confirmed cases in Calaveras County: 3']\n"
     ]
    }
   ],
   "source": [
    "for x in soups[5].find_all('span', class_= 'Head', id=\"dnn_ctr8879_dnnTITLE_titleLabel\"):\n",
    "    results = x.contents\n",
    "    print(results)\n",
    "\n",
    "case = re.findall(r'Number of confirmed cases in Calaveras County: ([0-9]+)', results[0])[0]\n",
    "df.loc[5, name] = case"
   ]
  },
  {
   "cell_type": "code",
   "execution_count": 746,
   "metadata": {},
   "outputs": [
    {
     "data": {
      "text/plain": [
       "'3'"
      ]
     },
     "execution_count": 746,
     "metadata": {},
     "output_type": "execute_result"
    }
   ],
   "source": [
    "case"
   ]
  },
  {
   "cell_type": "code",
   "execution_count": 747,
   "metadata": {},
   "outputs": [
    {
     "data": {
      "text/plain": [
       "County                                               Calaveras\n",
       "Website                       https://covid19.calaverasgov.us/\n",
       "2020-04-02 Confirmed Cases                                   3\n",
       "2020-04-02 Deaths                                          NaN\n",
       "2020-04-02 Tests                                           NaN\n",
       "2020-04-02 Recovered                                       NaN\n",
       "Name: 5, dtype: object"
      ]
     },
     "execution_count": 747,
     "metadata": {},
     "output_type": "execute_result"
    }
   ],
   "source": [
    "df.loc[5]"
   ]
  },
  {
   "cell_type": "markdown",
   "metadata": {},
   "source": [
    "## COLUSA"
   ]
  },
  {
   "cell_type": "code",
   "execution_count": 748,
   "metadata": {},
   "outputs": [],
   "source": [
    "for x in soups[6].find_all('div', class_=\"fr-view\"):\n",
    "    for row in x.find_all('strong'):\n",
    "        # print(row)\n",
    "        if 'Cases' in str(row):\n",
    "            cases = row.find(text=True)\n",
    "cases = re.findall(r'Cases: ([0-9]+)', cases)[0]\n",
    "df.loc[6, name]=cases"
   ]
  },
  {
   "cell_type": "code",
   "execution_count": null,
   "metadata": {},
   "outputs": [],
   "source": []
  },
  {
   "cell_type": "markdown",
   "metadata": {},
   "source": [
    "# CONTRA COSTA"
   ]
  },
  {
   "cell_type": "code",
   "execution_count": 749,
   "metadata": {},
   "outputs": [],
   "source": [
    "paragraph = ' '\n",
    "for x in soups[7].find_all('div', class_=\"txtNew\"):\n",
    "    for y in x.find_all('h1'):\n",
    "        paragraph += y.find(text=True) + ' '\n",
    "df.loc[7, string_] = re.findall(r'DEATHS ([0-9]+)', paragraph)[0]\n",
    "df.loc[7, name] = re.findall(r'TOTAL CASES ([0-9]+)', paragraph)[0]"
   ]
  },
  {
   "cell_type": "markdown",
   "metadata": {},
   "source": [
    "## DEL NORTE"
   ]
  },
  {
   "cell_type": "code",
   "execution_count": 750,
   "metadata": {},
   "outputs": [
    {
     "name": "stdout",
     "output_type": "stream",
     "text": [
      "http://www.co.del-norte.ca.us/departments/health-human-services/public-health\n"
     ]
    }
   ],
   "source": [
    "print(df.loc[8, 'Website'])"
   ]
  },
  {
   "cell_type": "code",
   "execution_count": 751,
   "metadata": {},
   "outputs": [],
   "source": [
    "paragraph = ''\n",
    "for x in soups[8].find_all('div'):\n",
    "    for z in x.find_all(text=True):\n",
    "            # print(z.strip())\n",
    "            paragraph += z.replace('\\xa0', '').strip() + ' '\n",
    "            \n",
    "tests = re.findall(r'Total Number of Tests Administered               ([0-9]+)', paragraph)[0] \n",
    "cases = re.findall(r'Number of Positive COVID-19 Cases               ([0-9]+)', paragraph)[0]"
   ]
  },
  {
   "cell_type": "code",
   "execution_count": null,
   "metadata": {},
   "outputs": [],
   "source": []
  },
  {
   "cell_type": "code",
   "execution_count": 752,
   "metadata": {},
   "outputs": [],
   "source": [
    "df.loc[8, name]= case\n",
    "df.loc[8, test_admin]= tests"
   ]
  },
  {
   "cell_type": "markdown",
   "metadata": {},
   "source": [
    "## EL DORADO"
   ]
  },
  {
   "cell_type": "code",
   "execution_count": 753,
   "metadata": {},
   "outputs": [
    {
     "name": "stdout",
     "output_type": "stream",
     "text": [
      "https://www.edcgov.us/Government/hhsa/Pages/EDCCOVID-19-Cases.aspx\n"
     ]
    }
   ],
   "source": [
    "print(df.loc[9, \"Website\"])"
   ]
  },
  {
   "cell_type": "code",
   "execution_count": 754,
   "metadata": {},
   "outputs": [],
   "source": [
    "import re"
   ]
  },
  {
   "cell_type": "code",
   "execution_count": 755,
   "metadata": {},
   "outputs": [
    {
     "name": "stdout",
     "output_type": "stream",
     "text": [
      "Cases El Dorado County Residents   Positive Tests 18  Deaths 0   Total Number of Tests**  764   Negative Tests  596   Pending Tests  +/- 150 \n",
      "18\n",
      "0\n"
     ]
    }
   ],
   "source": [
    "paragraph_ = ''\n",
    "for x in soups[9].find_all('table'):\n",
    "    text = x.find_all(text=True)\n",
    "    # print(text)\n",
    "    \n",
    "    for no, y in enumerate(text):\n",
    "        paragraph_ += y.strip().replace('\\n', '').replace('\\u200b', '') +' '\n",
    "    print(paragraph_)\n",
    "    \n",
    "\n",
    "            \n",
    "cases = re.findall(r'Positive Tests ([0-9]+)', paragraph_)[0]\n",
    "print(cases)\n",
    "deaths =re.findall(r'Deaths ([0-9]+)', paragraph_)[0]\n",
    "print(deaths)\n",
    "cases = cases\n",
    "tests = re.findall(r'Total Number of Tests\\*\\*  ([0-9]+)', paragraph_)[0]\n",
    "\n",
    "df.loc[9, name] = cases\n",
    "df.loc[9, string_] = deaths\n",
    "df.loc[9, test_admin] = tests"
   ]
  },
  {
   "cell_type": "markdown",
   "metadata": {},
   "source": [
    "## FRESNO"
   ]
  },
  {
   "cell_type": "code",
   "execution_count": 756,
   "metadata": {},
   "outputs": [],
   "source": [
    "paragraph_case = ''\n",
    "paragraph_deaths = ''\n",
    "paragraph_tests = ''\n",
    "for no, x in enumerate(soups[10].find_all('li')):\n",
    "    text = x.find(text=True)\n",
    "    # print(text)\n",
    "    if 'cases' in text:\n",
    "        paragraph_case += soups[10].find_all('li')[no+1].find(text=True) + ' '\n",
    "        paragraph_case += soups[10].find_all('li')[no+2].find(text=True) + ' '\n",
    "        paragraph_case += soups[10].find_all('li')[no+3].find(text=True) + ' '\n",
    "        \n",
    "    if 'deaths' in text:\n",
    "        paragraph_deaths += text + ' '\n",
    "    if 'Tests' in text:\n",
    "        paragraph_tests += text + ' '\n",
    "        \n",
    "paragraph_tests = paragraph_tests.replace(',', '')\n",
    "# print(paragraph_tests)\n",
    "cases = re.findall(r'([0-9]+) \\(Travel-Related\\) ([0-9]+) \\(Person-to-Person\\) ([0-9]+) \\(Community-Spread\\)',\\\n",
    "                   paragraph_case) \n",
    "tests = re.findall(r'([0-9]+) \\(Tests',paragraph_tests)[0]\n",
    "cases = sum([int(x) for x in cases[0]])\n",
    "\n",
    "# print(tests, cases)\n",
    "        \n",
    "df.loc[10, name] = cases\n",
    "df.loc[10, test_admin] = tests"
   ]
  },
  {
   "cell_type": "code",
   "execution_count": 757,
   "metadata": {},
   "outputs": [
    {
     "data": {
      "text/plain": [
       "County                                                                   Fresno\n",
       "Website                       https://www.co.fresno.ca.us/departments/public...\n",
       "2020-04-02 Confirmed Cases                                                   45\n",
       "2020-04-02 Deaths                                                           NaN\n",
       "2020-04-02 Tests                                                           1650\n",
       "2020-04-02 Recovered                                                        NaN\n",
       "Name: 10, dtype: object"
      ]
     },
     "execution_count": 757,
     "metadata": {},
     "output_type": "execute_result"
    }
   ],
   "source": [
    "df.loc[10]"
   ]
  },
  {
   "cell_type": "markdown",
   "metadata": {},
   "source": [
    "## GLENN"
   ]
  },
  {
   "cell_type": "code",
   "execution_count": 758,
   "metadata": {},
   "outputs": [
    {
     "name": "stdout",
     "output_type": "stream",
     "text": [
      "https://www.countyofglenn.net/dept/health-human-services/public-health/covid19\n"
     ]
    }
   ],
   "source": [
    "county = 11\n",
    "print(df.loc[county, 'Website'])"
   ]
  },
  {
   "cell_type": "code",
   "execution_count": 759,
   "metadata": {},
   "outputs": [
    {
     "data": {
      "text/plain": [
       "County                                                                    Glenn\n",
       "Website                       https://www.countyofglenn.net/dept/health-huma...\n",
       "2020-04-02 Confirmed Cases                                                    2\n",
       "2020-04-02 Deaths                                                           NaN\n",
       "2020-04-02 Tests                                                             32\n",
       "2020-04-02 Recovered                                                        NaN\n",
       "Name: 11, dtype: object"
      ]
     },
     "execution_count": 759,
     "metadata": {},
     "output_type": "execute_result"
    }
   ],
   "source": [
    "df.iloc[11]"
   ]
  },
  {
   "cell_type": "code",
   "execution_count": 760,
   "metadata": {},
   "outputs": [
    {
     "data": {
      "text/plain": [
       "'We understand that there may be concerns about Novel Coronavirus\\xa0Disease\\xa0also known as COVID-19. Glenn County HHSA’s Public Health Department is working closely with State and local\\xa0partners and other healthcare systems to assess the situation locally and provide guidance as necessary.\\xa0See below for COVID-19 testing results for the county. Updates: Update April 1, 2020 Glenn County COVID-19 Cases 2 How can you protect yourself and your family? \"click here\" \"haga clic aquí\" People at Increased Risk Who should be tested for COVID-19? Testing must be done by a healthcare provider. Glenn County Public Health cannot perform COVID-19 testing. Glenn County Public Health cannot perform COVID-19 testing. People who should be tested Call ahead so that you can be safely evaluated to prevent exposing others. Press Releases: Issued by Glenn County: Emergency Operations Center HHSA | Public Health Sheriff\\'s Office Board of Supervisors '"
      ]
     },
     "execution_count": 760,
     "metadata": {},
     "output_type": "execute_result"
    }
   ],
   "source": [
    "paragraph = ''\n",
    "for x in soups[11].find_all('strong'):\n",
    "    for y in x.find_all(text=True):\n",
    "        paragraph += y.strip() + ' '\n",
    "paragraph"
   ]
  },
  {
   "cell_type": "code",
   "execution_count": 761,
   "metadata": {},
   "outputs": [],
   "source": [
    "df.loc[11, name] = re.findall(r'COVID-19 Cases ([0-9]+)', paragraph)[0]\n",
    "df.loc[11, test_admin] = 32\n",
    "                              "
   ]
  },
  {
   "cell_type": "markdown",
   "metadata": {},
   "source": [
    "## Humboldt"
   ]
  },
  {
   "cell_type": "code",
   "execution_count": 762,
   "metadata": {},
   "outputs": [],
   "source": [
    "df.loc[12, 'Website'] = 'https://humboldtgov.org/2707/COVID-Test-Results'\n",
    "#'https://humboldtgov.org/CivicAlerts.aspx?AID=2657'"
   ]
  },
  {
   "cell_type": "code",
   "execution_count": 763,
   "metadata": {},
   "outputs": [],
   "source": [
    "base = 'https://humboldtgov.org'"
   ]
  },
  {
   "cell_type": "code",
   "execution_count": 764,
   "metadata": {},
   "outputs": [
    {
     "ename": "SyntaxError",
     "evalue": "invalid syntax (<ipython-input-764-393c30412360>, line 1)",
     "output_type": "error",
     "traceback": [
      "\u001b[0;36m  File \u001b[0;32m\"<ipython-input-764-393c30412360>\"\u001b[0;36m, line \u001b[0;32m1\u001b[0m\n\u001b[0;31m    soups[12] = run_bs4(df.loc[12, 'Website']'')\u001b[0m\n\u001b[0m                                              ^\u001b[0m\n\u001b[0;31mSyntaxError\u001b[0m\u001b[0;31m:\u001b[0m invalid syntax\n"
     ]
    }
   ],
   "source": [
    "soups[12] = run_bs4(df.loc[12, 'Website']'')"
   ]
  },
  {
   "cell_type": "code",
   "execution_count": null,
   "metadata": {},
   "outputs": [],
   "source": [
    "new_link = []\n",
    "for x in soups[12].find_all('div', class_=\"widgetBody cpGrid cpGrid1\"):\n",
    "    if len(x)>0:\n",
    "        try:\n",
    "            for y in x.find('li', class_='widgetItem'):\n",
    "                try: \n",
    "                    new_link.append(y.find('a').get('href'))\n",
    "                except:\n",
    "                    pass\n",
    "        except:\n",
    "                pass"
   ]
  },
  {
   "cell_type": "code",
   "execution_count": null,
   "metadata": {},
   "outputs": [],
   "source": [
    "new_link"
   ]
  },
  {
   "cell_type": "code",
   "execution_count": null,
   "metadata": {},
   "outputs": [],
   "source": [
    "latest_link = base + new_link[0]\n",
    "positive = []\n",
    "for x in soups[12].find_all('div', class_=\"outer col col24 first last\"):\n",
    "    # print(x)\n",
    "    for y in x.find_all('div'):\n",
    "        text =y.find(text=True)\n",
    "        #print(text)\n",
    "        positive.append(str(text).replace('\\n', \"\").replace('\\t', \"\").replace('\\r', \"\"))"
   ]
  },
  {
   "cell_type": "code",
   "execution_count": null,
   "metadata": {},
   "outputs": [],
   "source": [
    "paragraph = regex_paragraph_1(positive)\n"
   ]
  },
  {
   "cell_type": "code",
   "execution_count": null,
   "metadata": {},
   "outputs": [],
   "source": [
    "no_case = 0\n",
    "cases = re.findall(r'Total [new]* positive cases [confirmed]* on [A-Z][a-z]+ [0-9]+: ([0-9]+) |Total positive cases [confirmed]* on [A-Z][a-z]+ [ ]*[0-9]+: [ ]*([0-9]+)', paragraph)\n",
    "for x,y in zip(cases[:3], cases[3:]):\n",
    "    print(x[0], y[1])\n",
    "    no_case += int(x[0]) + int(y[1])"
   ]
  },
  {
   "cell_type": "code",
   "execution_count": null,
   "metadata": {},
   "outputs": [],
   "source": [
    "df.loc[12, name] = no_case + 10\n",
    "df.loc[12, test_admin] = 439 + 409"
   ]
  },
  {
   "cell_type": "code",
   "execution_count": null,
   "metadata": {},
   "outputs": [],
   "source": [
    "df.loc[12].fillna(0)"
   ]
  },
  {
   "cell_type": "markdown",
   "metadata": {},
   "source": [
    "## imperial"
   ]
  },
  {
   "cell_type": "code",
   "execution_count": null,
   "metadata": {},
   "outputs": [],
   "source": [
    "\n",
    "print(df.loc[13, 'Website'])"
   ]
  },
  {
   "cell_type": "code",
   "execution_count": null,
   "metadata": {},
   "outputs": [],
   "source": [
    "paragraph = ''\n",
    "for x in soups[13].find_all('div', class_=\"panel-body\"):\n",
    "    #print(x)\n",
    "    for y in x.find_all('td'):\n",
    "        text = y.find(text=True)\n",
    "        if text:\n",
    "            paragraph += text.replace('\\xa0', \"\") +' '\n",
    "\n",
    "cases = re.findall(r'\\(Confirmed Cases\\) ([0-9]+)', paragraph)[0]\n",
    "tests = re.findall(r'Total Tested ([0-9]+)', paragraph)[0]\n",
    "df.loc[13, name] = cases\n",
    "df.loc[13, test_admin]= tests"
   ]
  },
  {
   "cell_type": "code",
   "execution_count": null,
   "metadata": {},
   "outputs": [],
   "source": [
    "paragraph"
   ]
  },
  {
   "cell_type": "code",
   "execution_count": null,
   "metadata": {},
   "outputs": [],
   "source": []
  },
  {
   "cell_type": "markdown",
   "metadata": {},
   "source": [
    "##  INYO"
   ]
  },
  {
   "cell_type": "code",
   "execution_count": null,
   "metadata": {},
   "outputs": [],
   "source": [
    "try:\n",
    "    paragraph = ''\n",
    "    for no, x in enumerate(soups[14].find_all('meta')):\n",
    "        if x:\n",
    "            paragraph += str(x).strip() + ' '\n",
    "\n",
    "        paragraph = paragraph.replace(\"\\n\", \"\").replace(\"\\xa0\", \"\").replace(\"\\t\", \"\")\n",
    "\n",
    "    deaths= re.findall(r'([0-9]+) deaths', paragraph)[0]\n",
    "    cases= re.findall(r'([0-9]+) confirmed', paragraph)[0]\n",
    "    df.loc[14, name] = cases\n",
    "    df.loc[14, string_] = deaths\n",
    "except:\n",
    "    pass"
   ]
  },
  {
   "cell_type": "code",
   "execution_count": null,
   "metadata": {},
   "outputs": [],
   "source": [
    "print(df.loc[14, 'Website'])"
   ]
  },
  {
   "cell_type": "code",
   "execution_count": null,
   "metadata": {},
   "outputs": [],
   "source": [
    "paragraph = ''\n",
    "for no, x in enumerate(soups[14].find_all('table')):\n",
    "    for y in x.find_all('li'):\n",
    "        for z in y.find_all(text=True):\n",
    "            # print(z)\n",
    "            paragraph += str(z).strip() + ' '\n",
    "\n",
    "mono = ''          \n",
    "for no, x in enumerate(soups[14].find_all('p')):\n",
    "    for y in x.find_all('span'):\n",
    "        for z in y.find_all(text=True):\n",
    "            mono += z.strip() + ' '\n",
    "\n",
    "paragraph = paragraph.replace(\"\\n\", \"\").replace(\"\\xa0\", \"\").replace(\"\\t\", \"\")\n",
    "\n",
    "deaths= re.findall(r'([0-9]+) deaths', paragraph)[0]\n",
    "cases= re.findall(r'([0-9]+) confirmed', paragraph)[0]\n",
    "tests = re.findall(r'Tests Administered: ([0-9]+)', paragraph)[0]\n",
    "df.loc[14, name] = cases\n",
    "df.loc[14, string_] = deaths\n",
    "df.loc[14, test_admin] = tests"
   ]
  },
  {
   "cell_type": "code",
   "execution_count": null,
   "metadata": {},
   "outputs": [],
   "source": [
    "mono_results = re.findall(r'Mono County Cases: ([0-9]+) confirmed COVID-19 case \\| ([0-9]+) deaths', mono)\n",
    "df.loc[27, name] = mono_results[0][0]\n",
    "df.loc[27, string_] = mono_results[0][1]\n"
   ]
  },
  {
   "cell_type": "code",
   "execution_count": null,
   "metadata": {},
   "outputs": [],
   "source": [
    "## KERN"
   ]
  },
  {
   "cell_type": "code",
   "execution_count": 947,
   "metadata": {},
   "outputs": [
    {
     "name": "stdout",
     "output_type": "stream",
     "text": [
      "https://kernpublichealth.com/2019-novel-coronavirus/\n"
     ]
    }
   ],
   "source": [
    "\n",
    "print(df.loc[15, 'Website'])\n",
    "\n",
    "with open('../webpages/2019 Novel Coronavirus - Kern County Public Health.mhtml', 'r') as htm:\n",
    "        soups[15] = htm.read()\n",
    "soups[15] = bs4.BeautifulSoup(soups[15])\n",
    "    \n",
    "df.loc[15, name] = 155\n",
    "df.loc[15, string_] = 1\n",
    "df.loc[15, test_admin] = 4110"
   ]
  },
  {
   "cell_type": "code",
   "execution_count": null,
   "metadata": {},
   "outputs": [],
   "source": []
  },
  {
   "cell_type": "markdown",
   "metadata": {},
   "source": [
    "## Kings County"
   ]
  },
  {
   "cell_type": "code",
   "execution_count": null,
   "metadata": {},
   "outputs": [],
   "source": [
    "paragraph =''\n",
    "soups[16].find_all('b')\n",
    "for x in soups[16].find_all('b'):\n",
    "    for y in x.find_all('h3'):\n",
    "        paragraph += str(y) + ' ' \n",
    "df.loc[16, name] = re.findall(r'Confirmed Cases: ([0-9]+)', paragraph)[0]\n",
    "df.loc[16, test_admin] = re.findall(r'Samples Collected by Health Dept.: ([0-9]+)', paragraph)[0]"
   ]
  },
  {
   "cell_type": "code",
   "execution_count": null,
   "metadata": {},
   "outputs": [],
   "source": [
    "paragraph"
   ]
  },
  {
   "cell_type": "code",
   "execution_count": null,
   "metadata": {},
   "outputs": [],
   "source": [
    "re.findall(r'Confirmed Cases: ([0-9]+)', paragraph)[0]\n"
   ]
  },
  {
   "cell_type": "code",
   "execution_count": null,
   "metadata": {},
   "outputs": [],
   "source": [
    "re.findall(r'Samples Collected by Health Dept.: ([0-9]+)', paragraph)[0]"
   ]
  },
  {
   "cell_type": "markdown",
   "metadata": {},
   "source": [
    "## Lake"
   ]
  },
  {
   "cell_type": "code",
   "execution_count": null,
   "metadata": {},
   "outputs": [],
   "source": [
    "county = 17"
   ]
  },
  {
   "cell_type": "code",
   "execution_count": null,
   "metadata": {},
   "outputs": [],
   "source": [
    "print(df.loc[17, 'Website'])"
   ]
  },
  {
   "cell_type": "code",
   "execution_count": null,
   "metadata": {},
   "outputs": [],
   "source": [
    "df.loc[county, test_admin] = 110"
   ]
  },
  {
   "cell_type": "markdown",
   "metadata": {},
   "source": [
    "## LASSEN"
   ]
  },
  {
   "cell_type": "code",
   "execution_count": null,
   "metadata": {},
   "outputs": [],
   "source": [
    "print(df.loc[18, 'Website'])"
   ]
  },
  {
   "cell_type": "markdown",
   "metadata": {},
   "source": [
    "# LONG BEACH \n",
    "\n",
    "\n"
   ]
  },
  {
   "cell_type": "code",
   "execution_count": null,
   "metadata": {},
   "outputs": [],
   "source": [
    "print(df.loc[19, 'Website'])"
   ]
  },
  {
   "cell_type": "code",
   "execution_count": null,
   "metadata": {},
   "outputs": [],
   "source": [
    "paragraph = ''\n",
    "for x in soups[20].find_all('table'):\n",
    "    for y in x.find_all(text=True):\n",
    "        paragraph += y.strip().replace('\\xa0', '') +' '\n",
    "\n",
    "\n",
    "results= re.findall(r'- Long Beach  ([0-9]+)', paragraph)\n",
    "# print(results)\n",
    "cases = results[0]\n",
    "deaths = results[1]\n",
    " "
   ]
  },
  {
   "cell_type": "code",
   "execution_count": null,
   "metadata": {},
   "outputs": [],
   "source": [
    "df.loc[19, name] = cases\n",
    "df.loc[19, string_] = deaths"
   ]
  },
  {
   "cell_type": "markdown",
   "metadata": {},
   "source": [
    "## Los Angeles \n",
    "data sometimes includes Long Beach and Pasadena Counties"
   ]
  },
  {
   "cell_type": "code",
   "execution_count": null,
   "metadata": {},
   "outputs": [],
   "source": [
    "county = 20\n"
   ]
  },
  {
   "cell_type": "code",
   "execution_count": null,
   "metadata": {},
   "outputs": [],
   "source": [
    "print(df.loc[20, 'Website'])"
   ]
  },
  {
   "cell_type": "code",
   "execution_count": null,
   "metadata": {},
   "outputs": [],
   "source": [
    "paragraph = ''\n",
    "for x in soups[20].find_all('table'):\n",
    "    # print(x.find_all('th'))\n",
    "    for te, num in zip(x.find_all('th'), x.find_all('td')):\n",
    "        # print(te.find(text=True), num.find(text=True))\n",
    "        paragraph += num.find(text=True).strip().replace('\\xa0', '') +' '\n",
    "        paragraph += te.find(text=True).strip().replace('\\xa0', '') + ' '\n",
    "\n",
    "\n",
    "cases= re.findall(r'Total Cases ([0-9]+)*', paragraph)[0]\n",
    "deaths = re.findall(r'Deaths  \\- Los Angeles County \\(excl.LBandPas\\) ([0-9]+)', paragraph)"
   ]
  },
  {
   "cell_type": "code",
   "execution_count": null,
   "metadata": {},
   "outputs": [],
   "source": [
    "df.loc[20, name] = cases\n",
    "df.loc[20, string_] = deaths"
   ]
  },
  {
   "cell_type": "markdown",
   "metadata": {},
   "source": [
    "## MADERA"
   ]
  },
  {
   "cell_type": "code",
   "execution_count": null,
   "metadata": {},
   "outputs": [],
   "source": [
    "county = 21\n",
    "df.loc[county]"
   ]
  },
  {
   "cell_type": "code",
   "execution_count": null,
   "metadata": {},
   "outputs": [],
   "source": [
    "print(df.loc[21, 'Website'])"
   ]
  },
  {
   "cell_type": "code",
   "execution_count": null,
   "metadata": {},
   "outputs": [],
   "source": [
    "info = []\n",
    "paragraph = ''\n",
    "for x in soups[21].find_all('div', id='widget_685_4225_1649'):\n",
    "    text = x.find_all('td')\n",
    "    for y in x.find_all('td'):\n",
    "        paragraph += y.find(text=True).strip()  + \" \"\n",
    "        try:\n",
    "            if int(y.find(text=True)):\n",
    "                info.append(str(y.find(text=True)))\n",
    "        except:\n",
    "            pass"
   ]
  },
  {
   "cell_type": "code",
   "execution_count": null,
   "metadata": {},
   "outputs": [],
   "source": [
    "paragraph"
   ]
  },
  {
   "cell_type": "code",
   "execution_count": null,
   "metadata": {},
   "outputs": [],
   "source": [
    "for no, x in enumerate(info):\n",
    "    x = x.replace('\\xa0', \"\")\n",
    "    info[no] = int(x)"
   ]
  },
  {
   "cell_type": "code",
   "execution_count": null,
   "metadata": {},
   "outputs": [],
   "source": [
    "cases = max(info)"
   ]
  },
  {
   "cell_type": "code",
   "execution_count": null,
   "metadata": {},
   "outputs": [],
   "source": [
    "deaths = re.findall(r'deceased', paragraph)\n",
    "recover = re.findall(r'recovered', paragraph)\n",
    "len(deaths), len(recover)"
   ]
  },
  {
   "cell_type": "code",
   "execution_count": null,
   "metadata": {},
   "outputs": [],
   "source": [
    "df.loc[21, name] = cases\n",
    "df.loc[21, string_] = len(deaths)\n",
    "df.loc[21, recovered] = len(recover)"
   ]
  },
  {
   "cell_type": "code",
   "execution_count": null,
   "metadata": {},
   "outputs": [],
   "source": []
  },
  {
   "cell_type": "code",
   "execution_count": null,
   "metadata": {},
   "outputs": [],
   "source": []
  },
  {
   "cell_type": "markdown",
   "metadata": {},
   "source": [
    "\n",
    "## MARIN"
   ]
  },
  {
   "cell_type": "code",
   "execution_count": null,
   "metadata": {},
   "outputs": [],
   "source": [
    "county = 22\n",
    "df.loc[county]"
   ]
  },
  {
   "cell_type": "code",
   "execution_count": null,
   "metadata": {},
   "outputs": [],
   "source": [
    "print(df.loc[county, 'Website']) "
   ]
  },
  {
   "cell_type": "code",
   "execution_count": null,
   "metadata": {},
   "outputs": [],
   "source": [
    "# soups[22] = run_bs4(df.loc[22, 'Website'])"
   ]
  },
  {
   "cell_type": "code",
   "execution_count": null,
   "metadata": {},
   "outputs": [],
   "source": [
    "info=[]\n",
    "for x in soups[22].find_all('table', class_=\"table table-striped table-hover cols-1\"):\n",
    "    # print(x)\n",
    "    for y in x.find_all('tbody'):\n",
    "        # print(y.find_all(text=True))\n",
    "        for no, z in enumerate(y.find_all(text=True)):\n",
    "             if len(z) >1:\n",
    "                    info.append(z.strip())\n",
    "   "
   ]
  },
  {
   "cell_type": "code",
   "execution_count": null,
   "metadata": {},
   "outputs": [],
   "source": [
    "paragraph = regex_paragraph_1(info)\n",
    "paragraph"
   ]
  },
  {
   "cell_type": "code",
   "execution_count": null,
   "metadata": {},
   "outputs": [],
   "source": [
    "paragraph = regex_paragraph_1(info)\n",
    "cases = re.findall(r'Total Cases ([0-9]+)', paragraph)[0]\n",
    "\n",
    "cases"
   ]
  },
  {
   "cell_type": "code",
   "execution_count": null,
   "metadata": {},
   "outputs": [],
   "source": [
    "df.loc[22, name] = cases\n",
    "df.loc[22, string_]  = 4\n",
    "df.loc[22, test_admin] = 716"
   ]
  },
  {
   "cell_type": "markdown",
   "metadata": {},
   "source": [
    "## MARIPOSA"
   ]
  },
  {
   "cell_type": "code",
   "execution_count": null,
   "metadata": {},
   "outputs": [],
   "source": [
    "df.loc[23, 'Website'] "
   ]
  },
  {
   "cell_type": "code",
   "execution_count": null,
   "metadata": {},
   "outputs": [],
   "source": [
    "info = []\n",
    "for x in soups[23].find_all('div', class_=\"fr-view\"):\n",
    "    for y in x.find_all('strong'):\n",
    "        for z in y.find_all(text=True):\n",
    "            info.append(str(z).replace('\\xa0', \"\"))"
   ]
  },
  {
   "cell_type": "code",
   "execution_count": null,
   "metadata": {},
   "outputs": [],
   "source": [
    "paragraph = ''\n",
    "for x in info:\n",
    "    paragraph += x + ' '\n",
    "paragraph"
   ]
  },
  {
   "cell_type": "code",
   "execution_count": null,
   "metadata": {},
   "outputs": [],
   "source": [
    "cases = re.search(r'Total Positive:   [0-9]+', paragraph).group()\n",
    "cases = re.search(r'[0-9]+', cases).group()"
   ]
  },
  {
   "cell_type": "code",
   "execution_count": null,
   "metadata": {},
   "outputs": [],
   "source": [
    "cases = re.findall(r'Total Positive:   ([0-9]+)', paragraph)[0]\n",
    "tests = re.findall(r'Total Tested:   ([0-9]+)', paragraph)[0]\n",
    "deaths = re.findall(r'Total Deaths:    ([0-9]+)', paragraph)[0]\n"
   ]
  },
  {
   "cell_type": "code",
   "execution_count": null,
   "metadata": {},
   "outputs": [],
   "source": [
    "df.loc[23, test_admin] = tests\n",
    "df.loc[23, name] = cases\n",
    "df.loc[23, string_] = deaths"
   ]
  },
  {
   "cell_type": "markdown",
   "metadata": {},
   "source": [
    "## MENDOCINO"
   ]
  },
  {
   "cell_type": "code",
   "execution_count": null,
   "metadata": {},
   "outputs": [],
   "source": [
    "print(df.loc[24, 'Website']) "
   ]
  },
  {
   "cell_type": "code",
   "execution_count": null,
   "metadata": {},
   "outputs": [],
   "source": [
    "paragraph =  ''\n",
    "for x in soups[24].find_all('div', id=\"widget_313_6901_4337\"):\n",
    "    for y in x.find_all('li'):\n",
    "      \n",
    "        text = y.find_all(text=True)\n",
    "       \n",
    "        for z in text: \n",
    "            \n",
    "            paragraph += z.strip() +' '\n",
    "            \n",
    "pos = re.findall(r'Positive tests: ([0-9]+)', paragraph)[0]\n",
    "tests = re.findall(r'Total tests: ([0-9]+)', paragraph)[0]\n",
    "\n",
    "df.loc[24, name] = pos\n",
    "df.loc[24, test_admin] = tests"
   ]
  },
  {
   "cell_type": "markdown",
   "metadata": {},
   "source": [
    "## MERCED"
   ]
  },
  {
   "cell_type": "code",
   "execution_count": null,
   "metadata": {},
   "outputs": [],
   "source": [
    "df.loc[25]"
   ]
  },
  {
   "cell_type": "code",
   "execution_count": 765,
   "metadata": {},
   "outputs": [
    {
     "name": "stdout",
     "output_type": "stream",
     "text": [
      "<table class=\"covidStats\">\n",
      "<tr>\n",
      "<th>Cases</th>\n",
      "<th>Travel Related</th>\n",
      "<th>Community Spread</th>\n",
      "<th>Under Investigation</th>\n",
      "<th>Deaths</th>\n",
      "</tr>\n",
      "<tr>\n",
      "<td>16</td>\n",
      "<td>8</td>\n",
      "<td>2</td>\n",
      "<td>6</td>\n",
      "<td>0</td>\n",
      "</tr>\n",
      "</table>\n"
     ]
    },
    {
     "data": {
      "text/plain": [
       "{'Cases': 16,\n",
       " 'Travel Related': 8,\n",
       " 'Community Spread': 2,\n",
       " 'Under Investigation': 6,\n",
       " 'Deaths': 0}"
      ]
     },
     "execution_count": 765,
     "metadata": {},
     "output_type": "execute_result"
    }
   ],
   "source": [
    "info={}\n",
    "for x in soups[25].find_all('table'):\n",
    "    print(x)\n",
    "    for title, no in zip(x.find_all('th'), x.find_all('td')):\n",
    "        info[title.find(text=True)] = int(no.find(text=True))\n",
    "\n",
    "info"
   ]
  },
  {
   "cell_type": "code",
   "execution_count": null,
   "metadata": {},
   "outputs": [],
   "source": []
  },
  {
   "cell_type": "code",
   "execution_count": 766,
   "metadata": {},
   "outputs": [],
   "source": [
    "df.loc[25, name]= info['Cases']\n",
    "df.loc[25, string_]= info['Deaths']\n",
    "# df.loc[25, recovered] = info['Recoveries']\n",
    "# df.loc[25, test_admin] = info['Tests']"
   ]
  },
  {
   "cell_type": "markdown",
   "metadata": {},
   "source": [
    "## MODOC"
   ]
  },
  {
   "cell_type": "code",
   "execution_count": 767,
   "metadata": {},
   "outputs": [
    {
     "name": "stdout",
     "output_type": "stream",
     "text": [
      "https://www.modocsheriff.us/modoc-covid-19-incident-updates\n"
     ]
    }
   ],
   "source": [
    "df.loc[26, 'Website'] = 'https://www.modocsheriff.us/modoc-covid-19-incident-updates'\n",
    "print(df.loc[26, 'Website'])"
   ]
  },
  {
   "cell_type": "code",
   "execution_count": 768,
   "metadata": {},
   "outputs": [
    {
     "data": {
      "text/plain": [
       "<html><body><h1>403 Forbidden</h1>\n",
       "Request forbidden by administrative rules.\n",
       "</body></html>"
      ]
     },
     "execution_count": 768,
     "metadata": {},
     "output_type": "execute_result"
    }
   ],
   "source": [
    "soups[26] = run_bs4('https://www.modocsheriff.us/modoc-covid-19-incident-updates')\n",
    "soups[26]"
   ]
  },
  {
   "cell_type": "code",
   "execution_count": null,
   "metadata": {},
   "outputs": [],
   "source": []
  },
  {
   "cell_type": "code",
   "execution_count": 769,
   "metadata": {},
   "outputs": [],
   "source": [
    "df.loc[26, test_admin] = 31"
   ]
  },
  {
   "cell_type": "markdown",
   "metadata": {},
   "source": [
    "## MONO"
   ]
  },
  {
   "cell_type": "code",
   "execution_count": 770,
   "metadata": {
    "scrolled": true
   },
   "outputs": [
    {
     "name": "stdout",
     "output_type": "stream",
     "text": [
      "https://coronavirus.monocounty.ca.gov/\n"
     ]
    }
   ],
   "source": [
    "print(df.loc[27, 'Website'])"
   ]
  },
  {
   "cell_type": "code",
   "execution_count": 771,
   "metadata": {},
   "outputs": [
    {
     "name": "stdout",
     "output_type": "stream",
     "text": [
      "<!DOCTYPE html><html lang=\"en-us\"><head><title>Mono County Coronavirus Response</title><meta name=\"twitter:title\" content=\"Mono County Coronavirus Response\"><meta property=\"og:title\" content=\"Mono County Coronavirus Response\"><meta name=\"description\" content=\"Discover the latest resources, maps and information about the coronavirus (COVID-19) outbreak in Mono County\"><meta name=\"twitter:description\" content=\"Discover the latest resources, maps and information about the coronavirus (COVID-19) outbreak in Mono County\"><meta property=\"og:description\" content=\"Discover the latest resources, maps and information about the coronavirus (COVID-19) outbreak in Mono County\"><meta name=\"twitter:image\" content=\"https://gis.mono.ca.gov/images/logos/main-logo.png\"><meta property=\"og:image\" content=\"https://gis.mono.ca.gov/images/logos/main-logo.png\"><meta name=\"twitter:card\" content=\"summary\"><meta property=\"og:url\" content=\"https://coronavirus.monocounty.ca.gov/\"><meta property=\"og:type\" content=\"website\">\n",
      "    <meta charset=\"utf-8\">\n",
      "    <meta name=\"google-site-verification\" content=\"V9SzvB895BKr2ff7JVvaJQM1CIgPqOL5FPooX1aqENo\">\n",
      "    <meta name=\"msvalidate.01\" content=\"217F0EED65C5B131219477CE2CEAAF8E\">\n",
      "    <meta name=\"viewport\" content=\"width=device-width, initial-scale=1\">\n",
      "    \n",
      "<meta name=\"activation-engine/config/environment\" content=\"%7B%22modulePrefix%22%3A%22activation-engine%22%2C%22environment%22%3A%22production%22%2C%22ember-do-forms%22%3A%7B%22defaultClasses%22%3A%7B%22field%22%3A%5B%22field%22%5D%2C%22label%22%3A%5B%22label%22%5D%2C%22control%22%3A%5B%22control%22%5D%2C%22feedback%22%3A%5B%22feedback%22%5D%2C%22hint%22%3A%5B%22hint%22%5D%7D%2C%22validationClasses%22%3A%7B%22fieldSuccess%22%3A%5B%22field-success%22%5D%2C%22fieldError%22%3A%5B%22field-error%22%5D%2C%22controlSuccess%22%3A%5B%22control-success%22%5D%2C%22controlError%22%3A%5B%22control-error%22%5D%7D%7D%7D\">\n",
      "<meta name=\"community-engine/config/environment\" content=\"%7B%22modulePrefix%22%3A%22community-engine%22%2C%22environment%22%3A%22production%22%7D\">\n",
      "<meta name=\"content-library-engine/config/environment\" content=\"%7B%22modulePrefix%22%3A%22content-library-engine%22%2C%22environment%22%3A%22production%22%2C%22ember-do-forms%22%3A%7B%22defaultClasses%22%3A%7B%22field%22%3A%5B%22field%22%5D%2C%22label%22%3A%5B%22label%22%5D%2C%22control%22%3A%5B%22control%22%5D%2C%22feedback%22%3A%5B%22feedback%22%5D%2C%22hint%22%3A%5B%22hint%22%5D%7D%2C%22validationClasses%22%3A%7B%22fieldSuccess%22%3A%5B%22field-success%22%5D%2C%22fieldError%22%3A%5B%22field-error%22%5D%2C%22controlSuccess%22%3A%5B%22control-success%22%5D%2C%22controlError%22%3A%5B%22control-error%22%5D%7D%7D%7D\">\n",
      "<meta name=\"dashboard-engine/config/environment\" content=\"%7B%22modulePrefix%22%3A%22dashboard-engine%22%2C%22environment%22%3A%22production%22%2C%22cedar%22%3A%7B%22amCharts%22%3A%7B%22dependencies%22%3A%5B%22amcharts.js%22%2C%22serial.js%22%2C%22xy.js%22%2C%22pie.js%22%2C%22radar.js%22%2C%22https%3A//unpkg.com/@esri/cedar@1.0.0-beta.9/dist/umd/themes/amCharts/calcite.js%22%5D%2C%22baseUrl%22%3A%22https%3A//www.amcharts.com/lib/3%22%7D%7D%7D\">\n",
      "<meta name=\"events-engine/config/environment\" content=\"%7B%22modulePrefix%22%3A%22events-engine%22%2C%22environment%22%3A%22production%22%2C%22ember-do-forms%22%3A%7B%22defaultClasses%22%3A%7B%22field%22%3A%5B%22field%22%5D%2C%22label%22%3A%5B%22label%22%5D%2C%22control%22%3A%5B%22control%22%5D%2C%22feedback%22%3A%5B%22feedback%22%5D%2C%22hint%22%3A%5B%22hint%22%5D%7D%2C%22validationClasses%22%3A%7B%22fieldSuccess%22%3A%5B%22field-success%22%5D%2C%22fieldError%22%3A%5B%22field-error%22%5D%2C%22controlSuccess%22%3A%5B%22control-success%22%5D%2C%22controlError%22%3A%5B%22control-error%22%5D%7D%7D%7D\">\n",
      "<meta name=\"feedback-engine/config/environment\" content=\"%7B%22modulePrefix%22%3A%22feedback-engine%22%2C%22environment%22%3A%22production%22%7D\">\n",
      "<meta name=\"initiative-editor-engine/config/environment\" content=\"%7B%22modulePrefix%22%3A%22initiative-editor-engine%22%2C%22environment%22%3A%22production%22%7D\">\n",
      "<meta name=\"layout-editor-engine/config/environment\" content=\"%7B%22modulePrefix%22%3A%22layout-editor-engine%22%2C%22environment%22%3A%22production%22%2C%22cedar%22%3A%7B%22amCharts%22%3A%7B%22dependencies%22%3A%5B%22amcharts.js%22%2C%22serial.js%22%2C%22xy.js%22%2C%22pie.js%22%2C%22radar.js%22%2C%22https%3A//unpkg.com/@esri/cedar@1.0.0-beta.9/dist/umd/themes/amCharts/calcite.js%22%5D%2C%22baseUrl%22%3A%22https%3A//www.amcharts.com/lib/3%22%7D%7D%7D\">\n",
      "<meta name=\"maps-engine/config/environment\" content=\"%7B%22modulePrefix%22%3A%22maps-engine%22%2C%22environment%22%3A%22production%22%7D\">\n",
      "<meta name=\"overview-engine/config/environment\" content=\"%7B%22modulePrefix%22%3A%22overview-engine%22%2C%22environment%22%3A%22production%22%7D\">\n",
      "<meta name=\"solutions-engine/config/environment\" content=\"%7B%22modulePrefix%22%3A%22solutions-engine%22%2C%22environment%22%3A%22production%22%2C%22ember-do-forms%22%3A%7B%22defaultClasses%22%3A%7B%22field%22%3A%5B%22field%22%5D%2C%22label%22%3A%5B%22label%22%5D%2C%22control%22%3A%5B%22control%22%5D%2C%22feedback%22%3A%5B%22feedback%22%5D%2C%22hint%22%3A%5B%22hint%22%5D%7D%2C%22validationClasses%22%3A%7B%22fieldSuccess%22%3A%5B%22field-success%22%5D%2C%22fieldError%22%3A%5B%22field-error%22%5D%2C%22controlSuccess%22%3A%5B%22control-success%22%5D%2C%22controlError%22%3A%5B%22control-error%22%5D%7D%7D%7D\">\n",
      "<meta name=\"teams-engine/config/environment\" content=\"%7B%22modulePrefix%22%3A%22teams-engine%22%2C%22environment%22%3A%22production%22%2C%22ember-do-forms%22%3A%7B%22defaultClasses%22%3A%7B%22field%22%3A%5B%22field%22%5D%2C%22label%22%3A%5B%22label%22%5D%2C%22control%22%3A%5B%22control%22%5D%2C%22feedback%22%3A%5B%22feedback%22%5D%2C%22hint%22%3A%5B%22hint%22%5D%7D%2C%22validationClasses%22%3A%7B%22fieldSuccess%22%3A%5B%22field-success%22%5D%2C%22fieldError%22%3A%5B%22field-error%22%5D%2C%22controlSuccess%22%3A%5B%22control-success%22%5D%2C%22controlError%22%3A%5B%22control-error%22%5D%7D%7D%7D\">\n",
      "    <link rel=\"stylesheet\" href=\"https://d1iq7pbacwn5rb.cloudfront.net/opendata-ui/assets/assets/vendor-8547dadcc41b4956a47767c1027572ac.css\">\n",
      "\n",
      "    <!-- [begin custom site css injection point] - please do not remove this -->\n",
      "\n",
      "    <!-- FOR LTR DEVELOPMENT/TESTING: Un-Comment the next section -->\n",
      "    <!-- <link rel=\"stylesheet\" href=\"/assets/opendata-base.css\"> -->\n",
      "    <!-- FOR RTL TESTING: Un-Comment the next section -->\n",
      "    <!-- <link rel=\"stylesheet\" href=\"https://d1iq7pbacwn5rb.cloudfront.net/opendata-ui/assets/assets/opendata-rtl-bc62c73879742a9512bfd319f34bbb1a.css\">\n",
      "    <link rel=\"stylesheet\" href=\"//cdn.rawgit.com/morteza/bootstrap-rtl/v3.3.4/dist/css/bootstrap-rtl.min.css\"> -->\n",
      "\n",
      "    <!-- [end custom site css injection point] - please do not remove this -->\n",
      "\n",
      "    <script src=\"https://d1iq7pbacwn5rb.cloudfront.net/opendata-ui/assets/assets/esri-loader.min-558be9552276a2cf4e2f7342110ce077.js\"></script>\n",
      "<meta name=\"opendata-ui/config/asset-manifest\" content=\"%7B%22bundles%22%3A%7B%22activation-engine%22%3A%7B%22assets%22%3A%5B%7B%22uri%22%3A%22https%3A//d1iq7pbacwn5rb.cloudfront.net/opendata-ui/assets/engines-dist/activation-engine/assets/engine-15fd7be25f8fc53394ee16cd61969309.js%22%2C%22type%22%3A%22js%22%7D%2C%7B%22uri%22%3A%22https%3A//d1iq7pbacwn5rb.cloudfront.net/opendata-ui/assets/engines-dist/activation-engine/config/environment-ff90cc74c4819901c4ead4d7555df68e.js%22%2C%22type%22%3A%22js%22%7D%5D%7D%2C%22community-engine%22%3A%7B%22assets%22%3A%5B%7B%22uri%22%3A%22https%3A//d1iq7pbacwn5rb.cloudfront.net/opendata-ui/assets/engines-dist/community-engine/assets/engine-75edeb4c8e0278e2e38e2113359f970a.js%22%2C%22type%22%3A%22js%22%7D%2C%7B%22uri%22%3A%22https%3A//d1iq7pbacwn5rb.cloudfront.net/opendata-ui/assets/engines-dist/community-engine/assets/engine-vendor-a93a120f81a4a93be183bc344eb28dd4.js%22%2C%22type%22%3A%22js%22%7D%2C%7B%22uri%22%3A%22https%3A//d1iq7pbacwn5rb.cloudfront.net/opendata-ui/assets/engines-dist/community-engine/config/environment-4274f076f0b95be244fb5714538a4895.js%22%2C%22type%22%3A%22js%22%7D%5D%7D%2C%22content-library-engine%22%3A%7B%22assets%22%3A%5B%7B%22uri%22%3A%22https%3A//d1iq7pbacwn5rb.cloudfront.net/opendata-ui/assets/engines-dist/content-library-engine/assets/engine-5c703498a8a88469825ed06cbf3c4d86.js%22%2C%22type%22%3A%22js%22%7D%2C%7B%22uri%22%3A%22https%3A//d1iq7pbacwn5rb.cloudfront.net/opendata-ui/assets/engines-dist/content-library-engine/assets/engine-vendor-644743c6914be790dc4df7457a3bcde6.js%22%2C%22type%22%3A%22js%22%7D%2C%7B%22uri%22%3A%22https%3A//d1iq7pbacwn5rb.cloudfront.net/opendata-ui/assets/engines-dist/content-library-engine/config/environment-eecb3364e718ed8af7712c9f6ddf99ee.js%22%2C%22type%22%3A%22js%22%7D%5D%7D%2C%22dashboard-engine%22%3A%7B%22assets%22%3A%5B%7B%22uri%22%3A%22https%3A//d1iq7pbacwn5rb.cloudfront.net/opendata-ui/assets/engines-dist/dashboard-engine/assets/engine-f9164b652030fcdc64353ced4c11810a.js%22%2C%22type%22%3A%22js%22%7D%2C%7B%22uri%22%3A%22https%3A//d1iq7pbacwn5rb.cloudfront.net/opendata-ui/assets/engines-dist/dashboard-engine/assets/engine-vendor-ac6efd2233a005ed3190548f1d854345.js%22%2C%22type%22%3A%22js%22%7D%2C%7B%22uri%22%3A%22https%3A//d1iq7pbacwn5rb.cloudfront.net/opendata-ui/assets/engines-dist/dashboard-engine/config/environment-ff34a9a1fec4b8e80fb0ffc73f65126e.js%22%2C%22type%22%3A%22js%22%7D%5D%7D%2C%22events-engine%22%3A%7B%22assets%22%3A%5B%7B%22uri%22%3A%22https%3A//d1iq7pbacwn5rb.cloudfront.net/opendata-ui/assets/engines-dist/events-engine/assets/engine-a47cd8e53eef6aa29f5a2c2eca655c25.js%22%2C%22type%22%3A%22js%22%7D%2C%7B%22uri%22%3A%22https%3A//d1iq7pbacwn5rb.cloudfront.net/opendata-ui/assets/engines-dist/events-engine/assets/engine-vendor-4395a587330420deacf47458a7879efe.js%22%2C%22type%22%3A%22js%22%7D%2C%7B%22uri%22%3A%22https%3A//d1iq7pbacwn5rb.cloudfront.net/opendata-ui/assets/engines-dist/events-engine/config/environment-9a8c2f255032d716fd5dbb06e3cecc17.js%22%2C%22type%22%3A%22js%22%7D%5D%7D%2C%22feedback-engine%22%3A%7B%22assets%22%3A%5B%7B%22uri%22%3A%22https%3A//d1iq7pbacwn5rb.cloudfront.net/opendata-ui/assets/engines-dist/feedback-engine/assets/engine-00eed9d2fe21cd64284cbab3f0bc4ea6.js%22%2C%22type%22%3A%22js%22%7D%2C%7B%22uri%22%3A%22https%3A//d1iq7pbacwn5rb.cloudfront.net/opendata-ui/assets/engines-dist/feedback-engine/assets/engine-vendor-451034e5986dfabbf3daa609f5645c0e.js%22%2C%22type%22%3A%22js%22%7D%2C%7B%22uri%22%3A%22https%3A//d1iq7pbacwn5rb.cloudfront.net/opendata-ui/assets/engines-dist/feedback-engine/config/environment-eb83039cd76bdddac77ef5e1aac78028.js%22%2C%22type%22%3A%22js%22%7D%5D%7D%2C%22initiative-editor-engine%22%3A%7B%22assets%22%3A%5B%7B%22uri%22%3A%22https%3A//d1iq7pbacwn5rb.cloudfront.net/opendata-ui/assets/engines-dist/initiative-editor-engine/assets/engine-6a50247493a1eef3fdcef8620818e7bd.js%22%2C%22type%22%3A%22js%22%7D%2C%7B%22uri%22%3A%22https%3A//d1iq7pbacwn5rb.cloudfront.net/opendata-ui/assets/engines-dist/initiative-editor-engine/assets/engine-vendor-451034e5986dfabbf3daa609f5645c0e.js%22%2C%22type%22%3A%22js%22%7D%2C%7B%22uri%22%3A%22https%3A//d1iq7pbacwn5rb.cloudfront.net/opendata-ui/assets/engines-dist/initiative-editor-engine/config/environment-2f4ab8165245c4dd87d790337c60130f.js%22%2C%22type%22%3A%22js%22%7D%5D%7D%2C%22layout-editor-engine%22%3A%7B%22assets%22%3A%5B%7B%22uri%22%3A%22https%3A//d1iq7pbacwn5rb.cloudfront.net/opendata-ui/assets/engines-dist/layout-editor-engine/assets/engine-4d7ed81686957eab2d46abe19c44fe8f.js%22%2C%22type%22%3A%22js%22%7D%2C%7B%22uri%22%3A%22https%3A//d1iq7pbacwn5rb.cloudfront.net/opendata-ui/assets/engines-dist/layout-editor-engine/assets/engine-vendor-c05d93d29732c46a2b51f34c4364815e.js%22%2C%22type%22%3A%22js%22%7D%2C%7B%22uri%22%3A%22https%3A//d1iq7pbacwn5rb.cloudfront.net/opendata-ui/assets/engines-dist/layout-editor-engine/config/environment-c6675cd3b954d98c71517a2065c39394.js%22%2C%22type%22%3A%22js%22%7D%5D%7D%2C%22maps-engine%22%3A%7B%22assets%22%3A%5B%7B%22uri%22%3A%22https%3A//d1iq7pbacwn5rb.cloudfront.net/opendata-ui/assets/engines-dist/maps-engine/assets/engine-58d826a5d5f675a4adfa9bd5c715adc4.js%22%2C%22type%22%3A%22js%22%7D%2C%7B%22uri%22%3A%22https%3A//d1iq7pbacwn5rb.cloudfront.net/opendata-ui/assets/engines-dist/maps-engine/assets/engine-vendor-188819a7da922d27c286dd640266d1a3.css%22%2C%22type%22%3A%22css%22%7D%2C%7B%22uri%22%3A%22https%3A//d1iq7pbacwn5rb.cloudfront.net/opendata-ui/assets/engines-dist/maps-engine/assets/engine-vendor-e9f7d888664862c46a59b99337f3bcf4.js%22%2C%22type%22%3A%22js%22%7D%2C%7B%22uri%22%3A%22https%3A//d1iq7pbacwn5rb.cloudfront.net/opendata-ui/assets/engines-dist/maps-engine/config/environment-b421e435dd881561d2d74be6c3088f7a.js%22%2C%22type%22%3A%22js%22%7D%5D%7D%2C%22overview-engine%22%3A%7B%22assets%22%3A%5B%7B%22uri%22%3A%22https%3A//d1iq7pbacwn5rb.cloudfront.net/opendata-ui/assets/engines-dist/overview-engine/assets/engine-d3e03b60bbaa250ca8884a86b24ac231.js%22%2C%22type%22%3A%22js%22%7D%2C%7B%22uri%22%3A%22https%3A//d1iq7pbacwn5rb.cloudfront.net/opendata-ui/assets/engines-dist/overview-engine/assets/engine-vendor-ac6efd2233a005ed3190548f1d854345.js%22%2C%22type%22%3A%22js%22%7D%2C%7B%22uri%22%3A%22https%3A//d1iq7pbacwn5rb.cloudfront.net/opendata-ui/assets/engines-dist/overview-engine/config/environment-f1a86175963ca48559483c3fe7f7c42d.js%22%2C%22type%22%3A%22js%22%7D%5D%7D%2C%22solutions-engine%22%3A%7B%22assets%22%3A%5B%7B%22uri%22%3A%22https%3A//d1iq7pbacwn5rb.cloudfront.net/opendata-ui/assets/engines-dist/solutions-engine/assets/engine-2b7f1f20d27dc76839435e5b850c8a27.js%22%2C%22type%22%3A%22js%22%7D%2C%7B%22uri%22%3A%22https%3A//d1iq7pbacwn5rb.cloudfront.net/opendata-ui/assets/engines-dist/solutions-engine/config/environment-e69032595f0a429bba12c5ca3433469d.js%22%2C%22type%22%3A%22js%22%7D%5D%7D%2C%22teams-engine%22%3A%7B%22assets%22%3A%5B%7B%22uri%22%3A%22https%3A//d1iq7pbacwn5rb.cloudfront.net/opendata-ui/assets/engines-dist/teams-engine/assets/engine-af4cdcceda2dc550bbc3e1a7c5a517e0.js%22%2C%22type%22%3A%22js%22%7D%2C%7B%22uri%22%3A%22https%3A//d1iq7pbacwn5rb.cloudfront.net/opendata-ui/assets/engines-dist/teams-engine/assets/engine-vendor-6ed07ba145b9e4abb0daf214cd83c121.js%22%2C%22type%22%3A%22js%22%7D%2C%7B%22uri%22%3A%22https%3A//d1iq7pbacwn5rb.cloudfront.net/opendata-ui/assets/engines-dist/teams-engine/config/environment-5a66d452f28a2fee7e2c1248a93467ed.js%22%2C%22type%22%3A%22js%22%7D%5D%7D%7D%7D\">\n",
      "  \n",
      "  <script id=\"domain-injection\">\n",
      "    window.__DOMAIN={\"domainInfo\":{\"id\":\"48281\",\"domain\":\"coronavirus.monocounty.ca.gov\",\"hostname\":\"coronavirus.monocounty.ca.gov\",\"siteId\":\"e0983a6845f54216837ed91f096f2f0c\",\"clientKey\":\"pl8Yk5D35TVKVZdK\",\"orgKey\":\"MonoMammoth\",\"siteTitle\":\"Mono County Coronavirus Response\",\"orgId\":\"rQj5FcfuWPllzwY8\",\"orgTitle\":\"Mono County & the Town of Mammoth Lakes, CA\",\"createdAt\":\"2020-03-17T19:22:54Z\",\"updatedAt\":\"2020-03-17T19:22:54Z\",\"sslOnly\":true,\"permanentRedirect\":false}}\n",
      "  </script>\n",
      "    <style>\n",
      "      #base-loader{display:block;fill:none;stroke:#009af2;animation:loader-color-shift 2s alternate-reverse infinite linear;height:54px;margin-top:75px}#base-loader svg.loader-square{position:absolute;left:0;right:0;margin-left:auto;margin-right:auto;width:54px;height:54px;stroke-width:6px;stroke-dashoffset:0;fill:none}#base-loader svg.loader-square.loader-square-1{stroke-dasharray:50% 350%;animation:loader-clockwise 2s infinite linear}#base-loader svg.loader-square.loader-square-2{stroke-dasharray:100% 225% 50% 25%;animation:loader-clockwise 1s infinite linear}#base-loader svg.loader-square.loader-square-3{stroke-dasharray:50% 50% 75% 225%;animation:loader-clockwise 1.85s infinite linear}@keyframes loader-color-shift{0%{stroke:#009af2}100%{stroke:#00619b}}@keyframes loader-clockwise{0%{stroke-dashoffset:0}100%{stroke-dashoffset:-400%}}#base-loader .loader-bars{display:none}@media screen and (-ms-high-contrast:active),(-ms-high-contrast:none){#base-loader svg,.active#base-loader svg{display:none}#base-loader .loader-bars,.active#base-loader .loader-bars{display:block}}@supports (-ms-ime-align:auto){#base-loader svg,.active#base-loader svg{display:none}#base-loader .loader-bars,.active#base-loader .loader-bars{display:block}}#base-loader .loader-bars,#base-loader .loader-bars:after,#base-loader .loader-bars:before{background:#0079c1;animation:load .8s infinite ease-in-out;width:8.5px;height:20px}#base-loader .loader-bars:after,#base-loader .loader-bars:before{position:absolute;top:0;content:\"\"}#base-loader .loader-bars{text-indent:-9999em;margin:auto;position:absolute;right:calc(50% - 4.25px);animation-delay:.16s}#base-loader .loader-bars:before{left:-12.5px}#base-loader .loader-bars:after{left:12.5px;animation-delay:.32s}@keyframes load{0%,100%,80%{opacity:.75;box-shadow:0 0 #0079c1;height:20px}40%{opacity:1;box-shadow:0 -5px #0079c1;height:25px}}\n",
      "    </style>\n",
      "  </head>\n",
      "  <body class=\"calcite\">\n",
      "    \n",
      "      <script>\n",
      "        if (!Object.assign || (window && !!window.MSInputMethodContext && !!document.documentMode)) {\n",
      "          // from:https://github.com/jserz/js_piece/blob/master/DOM/ChildNode/remove()/remove().md\n",
      "          (function (arr) {\n",
      "            arr.forEach(function (item) {\n",
      "              if (item.hasOwnProperty('remove')) {\n",
      "                return;\n",
      "              }\n",
      "              Object.defineProperty(item, 'remove', {\n",
      "                configurable: true,\n",
      "                enumerable: true,\n",
      "                writable: true,\n",
      "                value: function remove() {\n",
      "                  if (this.parentNode !== null)\n",
      "                    this.parentNode.removeChild(this);\n",
      "                }\n",
      "              });\n",
      "            });\n",
      "          })([Element.prototype, CharacterData.prototype, DocumentType.prototype]);\n",
      "          // we're on IE11, load polyfills\n",
      "          var script = document.createElement('script');\n",
      "          script.src = 'https://d1iq7pbacwn5rb.cloudfront.net/opendata-ui/assets/assets/polyfills/core.min-17ba8351d9b48558236d2bde364a428e.js';\n",
      "          document.head.appendChild(script);\n",
      "          script = document.createElement('script');\n",
      "          script.src = 'https://d1iq7pbacwn5rb.cloudfront.net/opendata-ui/assets/assets/polyfills/fetch.umd-f4cf75c636ce7ffa09b5deeb87f23b61.js';\n",
      "          document.head.appendChild(script);\n",
      "          script = document.createElement('script');\n",
      "          script.src = 'https://d1iq7pbacwn5rb.cloudfront.net/opendata-ui/assets/assets/polyfills/url-polyfill.min-a016f4c175d80253d69e123f49d6dd25.js';\n",
      "          document.head.appendChild(script);\n",
      "        } else if (!Promise.prototype.finally) {\n",
      "          var script = document.createElement('script');\n",
      "          script.src = 'https://d1iq7pbacwn5rb.cloudfront.net/opendata-ui/assets/assets/polyfills/core.min-17ba8351d9b48558236d2bde364a428e.js';\n",
      "          document.head.appendChild(script);\n",
      "        }\n",
      "      </script>\n",
      "    <div id=\"base-loader\" aria-label=\"loading\">\n",
      "      <svg xmlns=\"http://www.w3.org/2000/svg\" viewBox=\"0 0 56 56\" class=\"loader-square loader-square-1\">\n",
      "        <rect width=\"56\" height=\"56\"/>\n",
      "      </svg>\n",
      "      <svg xmlns=\"http://www.w3.org/2000/svg\" viewBox=\"0 0 56 56\" class=\"loader-square loader-square-2\">\n",
      "        <rect width=\"56\" height=\"56\"/>\n",
      "      </svg>\n",
      "      <svg xmlns=\"http://www.w3.org/2000/svg\" viewBox=\"0 0 56 56\" class=\"loader-square loader-square-3\">\n",
      "        <rect width=\"56\" height=\"56\"/>\n",
      "      </svg>\n",
      "      <div class=\"loader-bars\"></div>\n",
      "    </div>\n",
      "    <!-- crossorigin options added because otherwise we cannot see error messages from unhandled errors and rejections -->\n",
      "    <script crossorigin=\"anonymous\" src=\"https://d1iq7pbacwn5rb.cloudfront.net/opendata-ui/assets/assets/vendor-9f5f526bc8f5a1904993841a9cd459a8.js\"></script>\n",
      "    <script crossorigin=\"anonymous\" src=\"https://d1iq7pbacwn5rb.cloudfront.net/opendata-ui/assets/assets/opendata-ui-836b011b241921d3f72625a041b10c6e.js\"></script>\n",
      "\n",
      "    <div id=\"ember-basic-dropdown-wormhole\"></div>\n",
      "\n",
      "    <!-- opendata-ui version: 5.86.0+c79ba980dc - Wed, 25 Mar 2020 17:51:40 GMT -->\n",
      "  \n",
      "\n",
      "</body></html>\n"
     ]
    }
   ],
   "source": [
    "with open('../webpages/Mono County Coronavirus Response.htm', 'r') as htm:\n",
    "    print(htm.read())"
   ]
  },
  {
   "cell_type": "code",
   "execution_count": 772,
   "metadata": {},
   "outputs": [],
   "source": [
    "df.loc[27, name]= 18\n",
    "df.loc[27, string_]= 1\n",
    "\n",
    "df.loc[27, test_admin] = 84"
   ]
  },
  {
   "cell_type": "markdown",
   "metadata": {},
   "source": [
    "## MONTEREY"
   ]
  },
  {
   "cell_type": "code",
   "execution_count": 773,
   "metadata": {},
   "outputs": [
    {
     "name": "stdout",
     "output_type": "stream",
     "text": [
      "https://www.co.monterey.ca.us/government/departments-a-h/administrative-office/office-of-emergency-services/response/covid-19\n"
     ]
    }
   ],
   "source": [
    "print(df.loc[28, 'Website'])"
   ]
  },
  {
   "cell_type": "code",
   "execution_count": 774,
   "metadata": {},
   "outputs": [],
   "source": [
    "# soups[28] = run_bs4(df.loc[28, 'Website'])"
   ]
  },
  {
   "cell_type": "code",
   "execution_count": 775,
   "metadata": {},
   "outputs": [],
   "source": [
    "paragraph = ''\n",
    "for no_1, x in enumerate(soups[28].find_all('div')):\n",
    "    for no, y in enumerate(x.find_all('p')):\n",
    "        text = y.find_all(text=True)\n",
    "        for z in text:\n",
    "            if len(z) > 0:\n",
    "                paragraph += str(z.strip()) + ' '\n",
    "try: \n",
    "    cases = re.findall(r'Total ([0-9]+) 100', paragraph)[0]\n",
    "    tests = re.findall(r'Number of tests completed: ([0-9]+)', paragraph)[0]\n",
    "    deaths = re.findall(r'Fatalities ([0-9]+)', paragraph)[0]\n",
    "\n",
    "except:\n",
    "    cases = re.findall(r'Total ([0-9]+) 100', paragraph)[0]\n",
    "    tests = re.findall(r' completado: ([0-9]+)', paragraph)[0]\n",
    "    deaths = re.findall(r' mortales ([0-9]+)', paragraph)[0]"
   ]
  },
  {
   "cell_type": "code",
   "execution_count": 776,
   "metadata": {},
   "outputs": [
    {
     "data": {
      "text/plain": [
       "('48', '561', '2')"
      ]
     },
     "execution_count": 776,
     "metadata": {},
     "output_type": "execute_result"
    }
   ],
   "source": [
    "\n",
    "    \n",
    "cases, tests, deaths"
   ]
  },
  {
   "cell_type": "code",
   "execution_count": 777,
   "metadata": {},
   "outputs": [],
   "source": [
    "df.loc[28, name]= cases\n",
    "df.loc[28, string_]= deaths\n",
    "df.loc[28, test_admin] = tests"
   ]
  },
  {
   "cell_type": "markdown",
   "metadata": {},
   "source": [
    "## NAPA"
   ]
  },
  {
   "cell_type": "code",
   "execution_count": 778,
   "metadata": {},
   "outputs": [],
   "source": [
    "df.loc[29, 'Website'] = 'https://legacy.livestories.com/s/v2/coronavirus-report-for-napa-county-ca/9065d62d-f5a6-445f-b2a9-b7cf30b846dd/'"
   ]
  },
  {
   "cell_type": "code",
   "execution_count": 779,
   "metadata": {},
   "outputs": [
    {
     "name": "stdout",
     "output_type": "stream",
     "text": [
      "https://legacy.livestories.com/s/v2/coronavirus-report-for-napa-county-ca/9065d62d-f5a6-445f-b2a9-b7cf30b846dd/\n"
     ]
    }
   ],
   "source": [
    "print(df.loc[29, 'Website'])"
   ]
  },
  {
   "cell_type": "code",
   "execution_count": 780,
   "metadata": {},
   "outputs": [
    {
     "name": "stdout",
     "output_type": "stream",
     "text": [
      "ls: ../data/webpages: No such file or directory\r\n"
     ]
    }
   ],
   "source": [
    "!ls ../data/webpages"
   ]
  },
  {
   "cell_type": "code",
   "execution_count": 948,
   "metadata": {},
   "outputs": [],
   "source": [
    "with open('../webpages/Coronavirus Report for Napa County, CA - LiveStories.mhtml', 'r') as htm:\n",
    "    text = htm.read()"
   ]
  },
  {
   "cell_type": "code",
   "execution_count": 949,
   "metadata": {},
   "outputs": [],
   "source": [
    "soups[29] = bs4.BeautifulSoup(text)"
   ]
  },
  {
   "cell_type": "code",
   "execution_count": 950,
   "metadata": {},
   "outputs": [],
   "source": [
    "paragraph = ''\n",
    "for x in soups[29].find_all('table'):\n",
    "    for y in x.find_all('tr'):\n",
    "        for z in y.find_all('td'):\n",
    "            for a in z.find_all(text=True):\n",
    "                paragraph += str(a.strip()).replace('\\n', '').replace('=20', '').replace('         ', '')\n",
    "                \n",
    "info_cases = re.findall(r'Napa County   ([0-9]+)   ([0-9]+)', paragraph)\n",
    "cases = info_cases[0][0]\n",
    "deaths = info_cases[0][1]\n",
    "tests = re.findall(r'TOTAL  ([0-9]+)', paragraph)\n",
    "\n",
    "\n",
    "df.loc[29, name] = cases\n",
    "df.loc[29, string_] = deaths\n",
    "#df.loc[29, recovered] = recover_\n",
    "tests = re.findall(r'TOTAL   ([0-9]+)', paragraph)\n",
    "tests = tests[0]\n",
    "\n",
    "df.loc[29, test_admin] = tests"
   ]
  },
  {
   "cell_type": "markdown",
   "metadata": {},
   "source": [
    "## NEVADA"
   ]
  },
  {
   "cell_type": "code",
   "execution_count": 784,
   "metadata": {},
   "outputs": [],
   "source": [
    "df.loc[30, 'Website'] = 'https://www.mynevadacounty.com/2924/Coronavirus'"
   ]
  },
  {
   "cell_type": "code",
   "execution_count": 785,
   "metadata": {},
   "outputs": [],
   "source": [
    "# soups[30] = run_bs4(df.loc[30, 'Website'])"
   ]
  },
  {
   "cell_type": "code",
   "execution_count": 786,
   "metadata": {},
   "outputs": [],
   "source": [
    "paragraph += str(a.strip()).replace('\\n', '').replace('=20', '').replace('         ', '')"
   ]
  },
  {
   "cell_type": "code",
   "execution_count": 787,
   "metadata": {},
   "outputs": [
    {
     "name": "stdout",
     "output_type": "stream",
     "text": [
      "Total Nevada County Residents\n",
      "Positive Tests\n",
      "26\n",
      "Deaths\n",
      "0\n",
      "Eastern Nevada County Residents\n",
      "Positive Tests\n",
      "18\n",
      "Deaths\n",
      "0\n",
      "Western Nevada County Residents\n",
      "Positive Tests\n",
      "8\n",
      "Deaths\n",
      "0\n"
     ]
    }
   ],
   "source": [
    "paragraph = ''\n",
    "for x in soups[30].find_all('table'):\n",
    "    for y in x.find_all('tr'):\n",
    "        for z in y.find_all('td'):\n",
    "            for a in z.find_all(text=True):\n",
    "                print(a)\n",
    "                paragraph += str(a.strip()) + ' '"
   ]
  },
  {
   "cell_type": "code",
   "execution_count": 788,
   "metadata": {},
   "outputs": [
    {
     "data": {
      "text/plain": [
       "'Total Nevada County Residents Positive Tests 26 Deaths 0 Eastern Nevada County Residents Positive Tests 18 Deaths 0 Western Nevada County Residents Positive Tests 8 Deaths 0 '"
      ]
     },
     "execution_count": 788,
     "metadata": {},
     "output_type": "execute_result"
    }
   ],
   "source": [
    "paragraph"
   ]
  },
  {
   "cell_type": "code",
   "execution_count": 789,
   "metadata": {},
   "outputs": [
    {
     "data": {
      "text/plain": [
       "'26'"
      ]
     },
     "execution_count": 789,
     "metadata": {},
     "output_type": "execute_result"
    }
   ],
   "source": [
    "results = re.findall(r'Positive Tests ([0-9]+)',paragraph) \n",
    "cases = results[0]\n",
    "cases"
   ]
  },
  {
   "cell_type": "code",
   "execution_count": 790,
   "metadata": {},
   "outputs": [],
   "source": [
    "deaths= re.findall(r'Deaths ([0-9]+)', paragraph)\n",
    "deaths = deaths[0]"
   ]
  },
  {
   "cell_type": "code",
   "execution_count": 791,
   "metadata": {},
   "outputs": [],
   "source": [
    "df.loc[30, name] = cases\n",
    "df.loc[30, string_] = deaths"
   ]
  },
  {
   "cell_type": "markdown",
   "metadata": {},
   "source": [
    "## ORANGE COUNTY"
   ]
  },
  {
   "cell_type": "code",
   "execution_count": 792,
   "metadata": {},
   "outputs": [],
   "source": [
    "paragraph = ''\n",
    "for x in soups[31].find_all('div', class_=\"col-md-6 col-sm-6 col-xs-12\"):\n",
    "    for y, z in zip(x.find_all('h2'), x.find_all('h1')):\n",
    "        paragraph += y.find(text=True) +' ' + z.find(text=True) +' '\n",
    "        \n",
    "df.loc[31, name]= re.findall(r'Cumulative Cases to Date ([0-9]+)', paragraph)[0]\n",
    "df.loc[31, string_]= re.findall(r'Cumulative Deaths to Date ([0-9]+)', paragraph)[0]\n",
    "# df.loc[31, test_admin] = info['test']\n",
    "        "
   ]
  },
  {
   "cell_type": "code",
   "execution_count": 793,
   "metadata": {},
   "outputs": [
    {
     "name": "stdout",
     "output_type": "stream",
     "text": [
      "https://occovid19.ochealthinfo.com/coronavirus-in-oc\n"
     ]
    }
   ],
   "source": [
    "print(df.loc[31, 'Website'])"
   ]
  },
  {
   "cell_type": "markdown",
   "metadata": {},
   "source": [
    "## PASADENA"
   ]
  },
  {
   "cell_type": "code",
   "execution_count": 794,
   "metadata": {},
   "outputs": [],
   "source": [
    "df.loc[32, 'Website'] = 'https://www.cityofpasadena.net/public-health/news-announcements/information-on-covid-19/'"
   ]
  },
  {
   "cell_type": "code",
   "execution_count": 795,
   "metadata": {},
   "outputs": [
    {
     "name": "stdout",
     "output_type": "stream",
     "text": [
      "Cases\n",
      "Deaths\n"
     ]
    }
   ],
   "source": [
    "info={}\n",
    "key=[]\n",
    "for x in soups[32].find_all('aside'):\n",
    "    table = x.find('table')\n",
    "    rows = table.find_all('tr')\n",
    "\n",
    "    for no, y in enumerate(rows):\n",
    "        count = 0\n",
    "        for a in y.find_all('th'):\n",
    "            key.append(a.find(text=True))\n",
    "            \n",
    "        for b in y.find_all('td'):\n",
    "            print(key[count])\n",
    "            \n",
    "            info[key[count]]=b.find(text=True)\n",
    "            count+=1\n",
    "\n",
    "df.loc[32, name]= int(info['Cases'])\n",
    "df.loc[32, string_]= int(info['Deaths'])"
   ]
  },
  {
   "cell_type": "code",
   "execution_count": 796,
   "metadata": {},
   "outputs": [
    {
     "data": {
      "text/plain": [
       "{'Cases': '37', 'Deaths': '0'}"
      ]
     },
     "execution_count": 796,
     "metadata": {},
     "output_type": "execute_result"
    }
   ],
   "source": [
    "info"
   ]
  },
  {
   "cell_type": "markdown",
   "metadata": {},
   "source": [
    "## PLACER"
   ]
  },
  {
   "cell_type": "code",
   "execution_count": 797,
   "metadata": {},
   "outputs": [],
   "source": [
    "df.loc[33, 'Website'] = 'https://www.placer.ca.gov/6448/Cases-in-Placer'"
   ]
  },
  {
   "cell_type": "code",
   "execution_count": 798,
   "metadata": {},
   "outputs": [],
   "source": [
    "paragraph = ''\n",
    "\n",
    "for x in soups[33].find_all('table'):\n",
    "    for no, y in enumerate(x.find_all('td')):\n",
    "        \n",
    "        paragraph += y.find(text=True) + ' '\n",
    "           \n",
    "df.loc[33, name]= re.findall(r'Lab Confirmed Cases \\(includes those who have died\\) ([0-9]+)', paragraph)[0]\n",
    "df.loc[33, string_]= re.findall(r'Deaths ([0-9]+)', paragraph)[0]         "
   ]
  },
  {
   "cell_type": "code",
   "execution_count": 799,
   "metadata": {},
   "outputs": [
    {
     "data": {
      "text/plain": [
       "'Lab Confirmed Cases (includes those who have died) 90 Deaths 2 Community-Acquired 28% Contact with Known Case 9% While Providing Health Care 10% Travel 33% Pending 20% 0-17 years 0% 18-49 years 46% 50-64 years 33% 65+ years 21% Male 54% Female 46% '"
      ]
     },
     "execution_count": 799,
     "metadata": {},
     "output_type": "execute_result"
    }
   ],
   "source": [
    "paragraph"
   ]
  },
  {
   "cell_type": "code",
   "execution_count": null,
   "metadata": {},
   "outputs": [],
   "source": [
    "\n"
   ]
  },
  {
   "cell_type": "markdown",
   "metadata": {},
   "source": [
    "## PLUMAS"
   ]
  },
  {
   "cell_type": "code",
   "execution_count": 800,
   "metadata": {},
   "outputs": [
    {
     "data": {
      "text/plain": [
       "'https://www.plumascounty.us/2669/Novel-Coronavirus-2019-COVID-19'"
      ]
     },
     "execution_count": 800,
     "metadata": {},
     "output_type": "execute_result"
    }
   ],
   "source": [
    " df.loc[34, 'Website']"
   ]
  },
  {
   "cell_type": "code",
   "execution_count": 801,
   "metadata": {},
   "outputs": [
    {
     "name": "stdout",
     "output_type": "stream",
     "text": [
      "0 COVID-19 DASHBOARD\n",
      "1 DATA LAST UPDATED: Wednesday, April 1, 2020, at 5:00 PM\n",
      "2 Disclaimer: Data may not be updated on Saturdays and Sundays.\n",
      "0 Positive Test Results\n",
      "1 1\n",
      "2 People Tested\n",
      "3 64\n",
      "4 Pending Test Results\n",
      "5 16\n",
      "6 Negative Test Results\n",
      "7 47\n",
      "0 State of CA\n",
      "1 6,932\n",
      "2 150\n",
      "3 U.S.\n",
      "4 186,101 \n",
      "5 3,603  \n",
      "0 SITUATION UPDATE\n",
      "0 Information Line: (530) 283-6400\n"
     ]
    }
   ],
   "source": [
    "paragraph =''\n",
    "key=[]\n",
    "for x in soups[34].find_all('table'):\n",
    "    y = x.find('tbody')\n",
    "    count = 0\n",
    "    for no, a in enumerate(y.find_all('td')):\n",
    "        print(no, a.find(text=True))\n",
    "        text = a.find(text=True)\n",
    "        if text: \n",
    "            paragraph += y.find_all('td')[no].find(text=True) + ' '\n",
    "            \n"
   ]
  },
  {
   "cell_type": "code",
   "execution_count": 802,
   "metadata": {},
   "outputs": [
    {
     "data": {
      "text/plain": [
       "'COVID-19 DASHBOARD DATA LAST UPDATED: Wednesday, April 1, 2020, at 5:00 PM Disclaimer: Data may not be updated on Saturdays and Sundays. Positive Test Results 1 People Tested 64 Pending Test Results 16 Negative Test Results 47 State of CA 6,932 150 U.S. 186,101\\xa0 3,603 \\xa0 SITUATION UPDATE Information Line: (530) 283-6400 '"
      ]
     },
     "execution_count": 802,
     "metadata": {},
     "output_type": "execute_result"
    }
   ],
   "source": [
    "paragraph"
   ]
  },
  {
   "cell_type": "code",
   "execution_count": 803,
   "metadata": {},
   "outputs": [
    {
     "data": {
      "text/plain": [
       "[('1', '64')]"
      ]
     },
     "execution_count": 803,
     "metadata": {},
     "output_type": "execute_result"
    }
   ],
   "source": [
    "results = re.findall(r'Positive Test Results ([0-9]+) People Tested ([0-9]+)', paragraph)\n",
    "results"
   ]
  },
  {
   "cell_type": "code",
   "execution_count": 804,
   "metadata": {},
   "outputs": [],
   "source": [
    "cases = results[0][0]\n",
    "tests = results[0][1]"
   ]
  },
  {
   "cell_type": "code",
   "execution_count": 805,
   "metadata": {},
   "outputs": [],
   "source": [
    "df.loc[34, name]= cases\n",
    "\n",
    "df.loc[34, test_admin] = tests"
   ]
  },
  {
   "cell_type": "code",
   "execution_count": null,
   "metadata": {},
   "outputs": [],
   "source": []
  },
  {
   "cell_type": "markdown",
   "metadata": {},
   "source": [
    "## Riverside"
   ]
  },
  {
   "cell_type": "code",
   "execution_count": 806,
   "metadata": {},
   "outputs": [
    {
     "name": "stdout",
     "output_type": "stream",
     "text": [
      "https://www.rivcoph.org/coronavirus\n"
     ]
    }
   ],
   "source": [
    "print(df.loc[35, 'Website'])"
   ]
  },
  {
   "cell_type": "code",
   "execution_count": 807,
   "metadata": {},
   "outputs": [],
   "source": [
    "paragraph = ''\n",
    "for x in soups[35].find_all('div'):\n",
    "    # print(x)\n",
    "    for y in x.find_all('p'):\n",
    "        #print(y.find_all(text=True))\n",
    "        \n",
    "        for no, z in enumerate(y.find_all(text=True)):\n",
    "                paragraph += z.strip().replace('\\xa0', '') + ' '\n",
    "       "
   ]
  },
  {
   "cell_type": "code",
   "execution_count": null,
   "metadata": {},
   "outputs": [],
   "source": []
  },
  {
   "cell_type": "code",
   "execution_count": 808,
   "metadata": {},
   "outputs": [
    {
     "data": {
      "text/plain": [
       "\"\\ncases = re.findall(r'Confirmed cases : ([0-9]+)', paragraph)\\ncases = cases[0]\\ndeaths = re.findall(r'Deaths: ([0-9]+)', paragraph)\\ndeaths = deaths[0]\\ndeaths, cases\\n\""
      ]
     },
     "execution_count": 808,
     "metadata": {},
     "output_type": "execute_result"
    }
   ],
   "source": [
    "'''\n",
    "cases = re.findall(r'Confirmed cases : ([0-9]+)', paragraph)\n",
    "cases = cases[0]\n",
    "deaths = re.findall(r'Deaths: ([0-9]+)', paragraph)\n",
    "deaths = deaths[0]\n",
    "deaths, cases\n",
    "'''"
   ]
  },
  {
   "cell_type": "code",
   "execution_count": 809,
   "metadata": {},
   "outputs": [],
   "source": [
    "df.loc[35, name]= 493\n",
    "df.loc[35, string_]= 14\n"
   ]
  },
  {
   "cell_type": "markdown",
   "metadata": {},
   "source": [
    "## San Benito"
   ]
  },
  {
   "cell_type": "code",
   "execution_count": 810,
   "metadata": {},
   "outputs": [
    {
     "name": "stdout",
     "output_type": "stream",
     "text": [
      "https://hhsa.cosb.us/publichealth/communicable-disease/coronavirus/\n"
     ]
    }
   ],
   "source": [
    "# manually check dashboard\n",
    "print(df.loc[36, 'Website']) "
   ]
  },
  {
   "cell_type": "code",
   "execution_count": 811,
   "metadata": {},
   "outputs": [],
   "source": [
    "df.loc[36, name]= 23\n",
    "df.loc[36, string_]= 1\n",
    "df.loc[36, test_admin] = 289\n",
    "df.loc[36, recovered] = 11"
   ]
  },
  {
   "cell_type": "markdown",
   "metadata": {},
   "source": [
    "## San Bernardino"
   ]
  },
  {
   "cell_type": "code",
   "execution_count": 812,
   "metadata": {},
   "outputs": [
    {
     "name": "stdout",
     "output_type": "stream",
     "text": [
      "http://wp.sbcounty.gov/dph/coronavirus/\n"
     ]
    }
   ],
   "source": [
    "print(df.loc[37, 'Website']) "
   ]
  },
  {
   "cell_type": "code",
   "execution_count": 813,
   "metadata": {},
   "outputs": [
    {
     "data": {
      "text/plain": [
       "(['254'], ['6'])"
      ]
     },
     "execution_count": 813,
     "metadata": {},
     "output_type": "execute_result"
    }
   ],
   "source": [
    "paragraph = ''\n",
    "for x in soups[37].find_all('div', class_= \"et_pb_text_inner\"):\n",
    "   \n",
    "    for z, y in zip(x.find_all('h2'), x.find_all('span')):\n",
    "       \n",
    "           paragraph += z.find(text=True) + ' '+ y.find(text=True) + ' '\n",
    "        \n",
    "cases = re.findall(r'COVID-19 CASES IN ([0-9]+)', paragraph)\n",
    "deaths = re.findall(r'COVID-19 ASSOCIATED DEATHS IN ([0-9]+)', paragraph)\n",
    "cases, deaths"
   ]
  },
  {
   "cell_type": "code",
   "execution_count": 814,
   "metadata": {},
   "outputs": [],
   "source": [
    "df.loc[37, name]= re.findall(r'COVID-19 CASES IN ([0-9]+)', paragraph)[0]\n",
    "df.loc[37, string_]= re.findall(r'COVID-19 ASSOCIATED DEATHS IN ([0-9]+)', paragraph)[0]"
   ]
  },
  {
   "cell_type": "markdown",
   "metadata": {},
   "source": [
    "## SAN DIEGO\n",
    "\n"
   ]
  },
  {
   "cell_type": "code",
   "execution_count": 815,
   "metadata": {},
   "outputs": [
    {
     "data": {
      "text/plain": [
       "'https://www.sandiegocounty.gov/content/sdc/hhsa/programs/phs/community_epidemiology/dc/2019-nCoV/status.html'"
      ]
     },
     "execution_count": 815,
     "metadata": {},
     "output_type": "execute_result"
    }
   ],
   "source": [
    "df.loc[38, 'Website'] "
   ]
  },
  {
   "cell_type": "code",
   "execution_count": 816,
   "metadata": {},
   "outputs": [
    {
     "data": {
      "text/plain": [
       "'\\nkey = []\\ninfo = {}\\nfor x in soup.find_all(\\'table\\'):\\n    for no_1, y in enumerate(x.find_all(\\'tr\\')):\\n        text = y.find_all(text=True)\\n\\n        if \\'\\n\\' in text:\\n            key.append(text)\\n\\n# trying to undo some wonky formatting\\nfor no, item in enumerate(key[1]):\\n    key[1][no] = str(item).replace(\\'\\n\\', \\'\\').replace(\"     \", \"\")\\n\\n# trying to remove some unicode characters from strings\\nfor no, x in enumerate(key[3]):\\n    key[3][no]=key[3][no].replace(\\'\\xa0\\', \\'0\\')\\n\\n# setting up some initial key values for dictionary\\nlist_=[]\\nerror_ = []\\ninfo[key[1][1]] = {key[1][1] : list_}\\ninfo[key[1][3]] = {key[2][1]:key[2][3]}\\ninfo[key[1][5]] = {key[2][1]:key[2][5]}\\ninfo[key[1][7]] = {key[2][1]:key[2][7]}\\n\\nfor x in range(2,21):\\n    try:\\n        list_.append(key[x][1])\\n        info[key[1][3]].update({key[x][1]: key[x][3]})\\n        info[key[1][5]].update({key[x][1]: key[x][5]})\\n        info[key[1][7]].update({key[x][1]: key[x][7]})\\n    except:\\n        error_.append(x)\\n\\n\\n\\ncases = info[\\'Total\\'][\\'Total Positives\\']\\ndeaths = info[\\'Total\\'][\\'Deaths\\']\\nreturn((cases, deaths, 0,0))'"
      ]
     },
     "execution_count": 816,
     "metadata": {},
     "output_type": "execute_result"
    }
   ],
   "source": [
    "    # dictionary_outer keys : ['COVID-19 Case Summary', 'San Diego County Residents',\n",
    "    #                           'Non-SanDiego County Residents', 'Total']\n",
    "    # dictionary_inner sample : info ['Total'] =\n",
    "    # {'Total Positives': '297','0-9 years': '2','10-19 years': '3',\n",
    "    #                          '20-29 years': '65','40-49 years': '54',\n",
    "    #                          '50-59 years': '40','60-69 years': '24',\n",
    "    #                          '70-79 years': '20','80+ years': '12',\n",
    "    #                          'Age Unknown': '0','Gender': '\\xa0',\n",
    "    #                          'Female': '112','Male': '185','Unknown': '0',\n",
    "    #                          'Hospitalizations': '59', 'Intensive Care': '29',\n",
    "    #                          'Deaths': '2'}\n",
    "'''\n",
    "key = []\n",
    "    info = {}\n",
    "    for x in soup.find_all('table'):\n",
    "        for no_1, y in enumerate(x.find_all('tr')):\n",
    "            text = y.find_all(text=True)\n",
    "\n",
    "            if '\\n' in text:\n",
    "                key.append(text)\n",
    "\n",
    "    # trying to undo some wonky formatting\n",
    "    for no, item in enumerate(key[1]):\n",
    "        key[1][no] = str(item).replace('\\n', '').replace(\"     \", \"\")\n",
    "\n",
    "    # trying to remove some unicode characters from strings\n",
    "    for no, x in enumerate(key[3]):\n",
    "        key[3][no]=key[3][no].replace('\\xa0', '0')\n",
    "\n",
    "    # setting up some initial key values for dictionary\n",
    "    list_=[]\n",
    "    error_ = []\n",
    "    info[key[1][1]] = {key[1][1] : list_}\n",
    "    info[key[1][3]] = {key[2][1]:key[2][3]}\n",
    "    info[key[1][5]] = {key[2][1]:key[2][5]}\n",
    "    info[key[1][7]] = {key[2][1]:key[2][7]}\n",
    "\n",
    "    for x in range(2,21):\n",
    "        try:\n",
    "            list_.append(key[x][1])\n",
    "            info[key[1][3]].update({key[x][1]: key[x][3]})\n",
    "            info[key[1][5]].update({key[x][1]: key[x][5]})\n",
    "            info[key[1][7]].update({key[x][1]: key[x][7]})\n",
    "        except:\n",
    "            error_.append(x)\n",
    "\n",
    "\n",
    "\n",
    "    cases = info['Total']['Total Positives']\n",
    "    deaths = info['Total']['Deaths']\n",
    "    return((cases, deaths, 0,0))'''"
   ]
  },
  {
   "cell_type": "code",
   "execution_count": 817,
   "metadata": {},
   "outputs": [],
   "source": [
    "key = []\n",
    "key_2 = []\n",
    "info = {}\n",
    "paragraph = ''\n",
    "for x in soups[38].find_all('table'):\n",
    "    for no_1, y in enumerate(x.find_all('tr')):\n",
    "        for z in  y.find_all('td'):\n",
    "            paragraph += z.find(text=True).strip().replace('\\xa0', '').replace('\\n', '') + ' '\n",
    "        \n",
    "        \n",
    "\n"
   ]
  },
  {
   "cell_type": "code",
   "execution_count": 818,
   "metadata": {},
   "outputs": [
    {
     "data": {
      "text/plain": [
       "' COVID-19 Case Summary San Diego County      Residents Total Positives 849 Age Groups  0-9 years 6 10-19 years 8 20-29 years 163 30-39 years 194 40-49 years 154 50-59 years 125 60-69 years 93 70-79 years 62 80+ years 41 Age Unknown 3 Gender  Female 380 Male 461 Unknown 8 Hospitalizations 158 Intensive Care 65 Deaths 15 '"
      ]
     },
     "execution_count": 818,
     "metadata": {},
     "output_type": "execute_result"
    }
   ],
   "source": [
    "paragraph"
   ]
  },
  {
   "cell_type": "code",
   "execution_count": 819,
   "metadata": {},
   "outputs": [],
   "source": [
    "cases= re.findall(r'Residents Total Positives ([0-9]+)', paragraph)[0]\n",
    "deaths= re.findall(r'Deaths ([0-9]+)', paragraph)[0]"
   ]
  },
  {
   "cell_type": "code",
   "execution_count": 820,
   "metadata": {},
   "outputs": [],
   "source": [
    "df.loc[38, name]= cases\n",
    "df.loc[38, string_]= deaths"
   ]
  },
  {
   "cell_type": "markdown",
   "metadata": {},
   "source": [
    "## SAN FRANCISCO\n",
    "\n",
    "\n",
    "\n",
    "\n",
    "\n"
   ]
  },
  {
   "cell_type": "code",
   "execution_count": 821,
   "metadata": {},
   "outputs": [
    {
     "data": {
      "text/plain": [
       "'https://www.sfdph.org/dph/alerts/coronavirus.asp'"
      ]
     },
     "execution_count": 821,
     "metadata": {},
     "output_type": "execute_result"
    }
   ],
   "source": [
    "df.loc[39, 'Website'] "
   ]
  },
  {
   "cell_type": "code",
   "execution_count": 822,
   "metadata": {},
   "outputs": [],
   "source": [
    "paragraph = ''\n",
    "for x in soups[39].find_all('div', class_='box2'):\n",
    "    for y in x.find_all('p'):\n",
    "        paragraph += y.find(text=True) +' '"
   ]
  },
  {
   "cell_type": "code",
   "execution_count": 823,
   "metadata": {},
   "outputs": [
    {
     "data": {
      "text/plain": [
       "'Total Positive Cases: 450 Deaths: 7 updated daily at 9:00 AM '"
      ]
     },
     "execution_count": 823,
     "metadata": {},
     "output_type": "execute_result"
    }
   ],
   "source": [
    "paragraph\n",
    "\n",
    "\n"
   ]
  },
  {
   "cell_type": "code",
   "execution_count": 824,
   "metadata": {},
   "outputs": [
    {
     "data": {
      "text/plain": [
       "'7'"
      ]
     },
     "execution_count": 824,
     "metadata": {},
     "output_type": "execute_result"
    }
   ],
   "source": [
    "cases = re.findall(r'Total Positive Cases: ([0-9]+)', paragraph)[0]\n",
    "deaths = re.findall(r'Deaths: ([0-9]+)', paragraph)[0]\n",
    "deaths"
   ]
  },
  {
   "cell_type": "code",
   "execution_count": 825,
   "metadata": {},
   "outputs": [],
   "source": [
    "df.loc[39, name]= cases\n",
    "df.loc[39, string_]= deaths"
   ]
  },
  {
   "cell_type": "markdown",
   "metadata": {},
   "source": [
    "## San Joaquin\n",
    "\n",
    "\n",
    "\n"
   ]
  },
  {
   "cell_type": "code",
   "execution_count": 826,
   "metadata": {},
   "outputs": [
    {
     "data": {
      "text/plain": [
       "'http://www.sjcphs.org/coronavirus.aspx'"
      ]
     },
     "execution_count": 826,
     "metadata": {},
     "output_type": "execute_result"
    }
   ],
   "source": [
    "df.loc[40, 'Website']"
   ]
  },
  {
   "cell_type": "code",
   "execution_count": 827,
   "metadata": {},
   "outputs": [],
   "source": [
    "paragraph = ''\n",
    "for x in soups[40].find_all('tr'):\n",
    "    for y in x.find_all('strong'):\n",
    "        paragraph += y.find(text=True) + ' '\n",
    "       "
   ]
  },
  {
   "cell_type": "code",
   "execution_count": 828,
   "metadata": {},
   "outputs": [
    {
     "data": {
      "text/plain": [
       "'Confirmed COVID-19 Cases 173 9 '"
      ]
     },
     "execution_count": 828,
     "metadata": {},
     "output_type": "execute_result"
    }
   ],
   "source": [
    "paragraph"
   ]
  },
  {
   "cell_type": "code",
   "execution_count": 829,
   "metadata": {},
   "outputs": [
    {
     "data": {
      "text/plain": [
       "[('173', '9')]"
      ]
     },
     "execution_count": 829,
     "metadata": {},
     "output_type": "execute_result"
    }
   ],
   "source": [
    "cases = re.findall(r'Confirmed COVID-19 Cases ([0-9]+) ([0-9]+)', paragraph)\n",
    "cases"
   ]
  },
  {
   "cell_type": "code",
   "execution_count": 830,
   "metadata": {},
   "outputs": [],
   "source": [
    "df.loc[40, name]= cases[0][0]\n",
    "df.loc[40, string_]= cases[0][1]"
   ]
  },
  {
   "cell_type": "markdown",
   "metadata": {},
   "source": [
    "## San Luis Opisbo\n"
   ]
  },
  {
   "cell_type": "code",
   "execution_count": 831,
   "metadata": {},
   "outputs": [
    {
     "name": "stdout",
     "output_type": "stream",
     "text": [
      "https://www.emergencyslo.org/en/positive-case-details.aspx\n"
     ]
    }
   ],
   "source": [
    "print(df.loc[41, 'Website']) "
   ]
  },
  {
   "cell_type": "code",
   "execution_count": 832,
   "metadata": {},
   "outputs": [],
   "source": [
    "page = requests.get('https://e.infogram.com/f6d9f731-5772-4da5-b149-5e42cc1c3b89?parent_url=https%3A%2F%2Fwww.emergencyslo.org%2Fen%2Fpositive-case-details.aspx&src=embed#')"
   ]
  },
  {
   "cell_type": "code",
   "execution_count": 833,
   "metadata": {},
   "outputs": [],
   "source": [
    "slo = pd.read_csv('../data/data_slo.csv', header=None)\n"
   ]
  },
  {
   "cell_type": "code",
   "execution_count": 834,
   "metadata": {},
   "outputs": [
    {
     "data": {
      "text/html": [
       "<div>\n",
       "<style scoped>\n",
       "    .dataframe tbody tr th:only-of-type {\n",
       "        vertical-align: middle;\n",
       "    }\n",
       "\n",
       "    .dataframe tbody tr th {\n",
       "        vertical-align: top;\n",
       "    }\n",
       "\n",
       "    .dataframe thead th {\n",
       "        text-align: right;\n",
       "    }\n",
       "</style>\n",
       "<table border=\"1\" class=\"dataframe\">\n",
       "  <thead>\n",
       "    <tr style=\"text-align: right;\">\n",
       "      <th></th>\n",
       "      <th>0</th>\n",
       "      <th>1</th>\n",
       "      <th>2</th>\n",
       "    </tr>\n",
       "  </thead>\n",
       "  <tbody>\n",
       "    <tr>\n",
       "      <th>0</th>\n",
       "      <td>&lt;p&gt;&lt;span style=\"font-size: 40px\"&gt;80&lt;/span&gt;&lt;/p&gt;</td>\n",
       "      <td>&lt;font style=\"font-size: 25px\"&gt;Confirmed cases&lt;...</td>\n",
       "      <td>positivePath</td>\n",
       "    </tr>\n",
       "    <tr>\n",
       "      <th>1</th>\n",
       "      <td>&lt;span style=\"font-size: 40px\"&gt;40&lt;/span&gt;</td>\n",
       "      <td>&lt;font style=\"font-size: 25px\"&gt;Home&lt;/font&gt;</td>\n",
       "      <td>1144Path</td>\n",
       "    </tr>\n",
       "    <tr>\n",
       "      <th>2</th>\n",
       "      <td>&lt;span style=\"font-size: 40px\"&gt;30&lt;/span&gt;</td>\n",
       "      <td>&lt;font style=\"font-size: 25px\"&gt;Recovered&lt;/font&gt;</td>\n",
       "      <td>1250234Path</td>\n",
       "    </tr>\n",
       "    <tr>\n",
       "      <th>3</th>\n",
       "      <td>&lt;span style=\"font-size: 40px\"&gt;10&lt;/span&gt;</td>\n",
       "      <td>&lt;font style=\"font-size: 25px\"&gt;Hospitalized (2 ...</td>\n",
       "      <td>147030Path</td>\n",
       "    </tr>\n",
       "    <tr>\n",
       "      <th>4</th>\n",
       "      <td>&lt;font style=\"font-size: 40px\"&gt;0&lt;/font&gt;</td>\n",
       "      <td>&lt;font style=\"font-size: 25px\"&gt;Deaths&lt;/font&gt;</td>\n",
       "      <td>rectPath</td>\n",
       "    </tr>\n",
       "  </tbody>\n",
       "</table>\n",
       "</div>"
      ],
      "text/plain": [
       "                                                0  \\\n",
       "0  <p><span style=\"font-size: 40px\">80</span></p>   \n",
       "1         <span style=\"font-size: 40px\">40</span>   \n",
       "2         <span style=\"font-size: 40px\">30</span>   \n",
       "3         <span style=\"font-size: 40px\">10</span>   \n",
       "4          <font style=\"font-size: 40px\">0</font>   \n",
       "\n",
       "                                                   1             2  \n",
       "0  <font style=\"font-size: 25px\">Confirmed cases<...  positivePath  \n",
       "1          <font style=\"font-size: 25px\">Home</font>      1144Path  \n",
       "2     <font style=\"font-size: 25px\">Recovered</font>   1250234Path  \n",
       "3  <font style=\"font-size: 25px\">Hospitalized (2 ...    147030Path  \n",
       "4        <font style=\"font-size: 25px\">Deaths</font>      rectPath  "
      ]
     },
     "execution_count": 834,
     "metadata": {},
     "output_type": "execute_result"
    }
   ],
   "source": [
    "slo"
   ]
  },
  {
   "cell_type": "code",
   "execution_count": 835,
   "metadata": {},
   "outputs": [],
   "source": [
    "\n",
    "\n",
    "for no, y in enumerate(slo.loc[:, 0]):\n",
    "    if no == 0:\n",
    "        cases = re.findall(r'>([0-9]+)<', y)[0]\n",
    "    \n",
    "    if no == 2:\n",
    "        recovered_ = re.findall(r'40px\">([0-9]+)<', y)[0]\n",
    "        \n",
    "    if no == 3:\n",
    "        deaths = re.findall(r'40px\">([0-9]+)<', y)[0]"
   ]
  },
  {
   "cell_type": "code",
   "execution_count": 836,
   "metadata": {},
   "outputs": [],
   "source": [
    "df.loc[41, name]= cases\n",
    "df.loc[41, string_]= deaths\n",
    "df.loc[41, recovered]= recovered_"
   ]
  },
  {
   "cell_type": "code",
   "execution_count": 837,
   "metadata": {},
   "outputs": [],
   "source": [
    "soups[41]=run_bs4('https://e.infogram.com/f6d9f731-5772-4da5-b149-5e42cc1c3b89?parent_url=https%3A%2F%2Fwww.emergencyslo.org%2Fen%2Fpositive-case-details.aspx&src=embed#async_embed')"
   ]
  },
  {
   "cell_type": "markdown",
   "metadata": {},
   "source": [
    "## San Mateo"
   ]
  },
  {
   "cell_type": "code",
   "execution_count": 838,
   "metadata": {},
   "outputs": [
    {
     "name": "stdout",
     "output_type": "stream",
     "text": [
      "https://www.smchealth.org/coronavirus\n"
     ]
    }
   ],
   "source": [
    "print(df.loc[42, 'Website']) "
   ]
  },
  {
   "cell_type": "code",
   "execution_count": 839,
   "metadata": {},
   "outputs": [],
   "source": [
    "paragraph = ''\n",
    "for x in soups[42].find_all('table'):\n",
    "    print(x)\n",
    "    for y in x.find_all('td'):\n",
    "        paragraph += y.find(text=True).strip() + ' '"
   ]
  },
  {
   "cell_type": "code",
   "execution_count": 840,
   "metadata": {},
   "outputs": [
    {
     "data": {
      "text/plain": [
       "''"
      ]
     },
     "execution_count": 840,
     "metadata": {},
     "output_type": "execute_result"
    }
   ],
   "source": [
    "paragraph"
   ]
  },
  {
   "cell_type": "code",
   "execution_count": 841,
   "metadata": {},
   "outputs": [],
   "source": [
    "# results = re.findall(r' ([0-9]+) Deaths ([0-9]+)', paragraph)\n",
    "\n",
    "cases = 309\n",
    "deaths = 10"
   ]
  },
  {
   "cell_type": "code",
   "execution_count": 842,
   "metadata": {},
   "outputs": [],
   "source": [
    "df.loc[42, name]= cases\n",
    "df.loc[42, string_]= deaths\n"
   ]
  },
  {
   "cell_type": "markdown",
   "metadata": {},
   "source": [
    "## Santa Barbara"
   ]
  },
  {
   "cell_type": "code",
   "execution_count": 951,
   "metadata": {},
   "outputs": [],
   "source": [
    "with open('../webpages/Status Reports – County of Santa Barbara.mhtml', 'r') as htm:\n",
    "    soups[43] = htm.read()"
   ]
  },
  {
   "cell_type": "code",
   "execution_count": 952,
   "metadata": {},
   "outputs": [
    {
     "name": "stdout",
     "output_type": "stream",
     "text": [
      "https://publichealthsbc.org/status-reports/\n"
     ]
    }
   ],
   "source": [
    "print(df.loc[43, 'Website'])\n",
    "    "
   ]
  },
  {
   "cell_type": "code",
   "execution_count": 953,
   "metadata": {},
   "outputs": [],
   "source": [
    "work_around = bs4.BeautifulSoup(soups[43])"
   ]
  },
  {
   "cell_type": "code",
   "execution_count": 954,
   "metadata": {},
   "outputs": [],
   "source": [
    "info =[]\n",
    "dates = []\n",
    "for x in work_around.find_all('div'):\n",
    "    for y,z in zip(x.find_all('td'), x.find_all('li')):\n",
    "        nums = y.find_all(text=True)\n",
    "        text = z.find_all(text=True)\n",
    "        info.append(nums)\n",
    "        if 'As of' in str(text):\n",
    "            info.append(text)\n",
    "        \n",
    "paragraph = ''\n",
    "for x in info:\n",
    "    for y in x: \n",
    "        paragraph += y + ' '   \n",
    "pos = re.findall(r'# Positive Results ([0-9]+)', paragraph)[0]\n",
    "rec = re.findall(r'Recovered ([0-9]+)', paragraph)[0]\n",
    "tests = re.findall(r'Total Tested ([0-9]+)', paragraph)[0]\n",
    "df.loc[43, name]= pos\n",
    "df.loc[43, test_admin]= tests\n",
    "df.loc[43, recovered] = rec"
   ]
  },
  {
   "cell_type": "code",
   "execution_count": 956,
   "metadata": {},
   "outputs": [
    {
     "data": {
      "text/plain": [
       "'111'"
      ]
     },
     "execution_count": 956,
     "metadata": {},
     "output_type": "execute_result"
    }
   ],
   "source": [
    "pos"
   ]
  },
  {
   "cell_type": "code",
   "execution_count": 957,
   "metadata": {},
   "outputs": [
    {
     "data": {
      "text/plain": [
       "'2'"
      ]
     },
     "execution_count": 957,
     "metadata": {},
     "output_type": "execute_result"
    }
   ],
   "source": [
    "\n",
    "rec"
   ]
  },
  {
   "cell_type": "code",
   "execution_count": 958,
   "metadata": {},
   "outputs": [
    {
     "data": {
      "text/plain": [
       "'493'"
      ]
     },
     "execution_count": 958,
     "metadata": {},
     "output_type": "execute_result"
    }
   ],
   "source": [
    "\n",
    "tests"
   ]
  },
  {
   "cell_type": "markdown",
   "metadata": {},
   "source": [
    "## Santa Clara"
   ]
  },
  {
   "cell_type": "code",
   "execution_count": 852,
   "metadata": {},
   "outputs": [],
   "source": [
    "df.loc[44, 'Website'] = 'https://www.sccgov.org/sites/phd/DiseaseInformation/novel-coronavirus/Pages/home.aspx'"
   ]
  },
  {
   "cell_type": "code",
   "execution_count": 853,
   "metadata": {},
   "outputs": [
    {
     "name": "stdout",
     "output_type": "stream",
     "text": [
      "https://www.sccgov.org/sites/phd/DiseaseInformation/novel-coronavirus/Pages/home.aspx\n"
     ]
    }
   ],
   "source": [
    "print(df.loc[44, 'Website'])"
   ]
  },
  {
   "cell_type": "code",
   "execution_count": 854,
   "metadata": {},
   "outputs": [],
   "source": [
    "paragraph = ''\n",
    "for x in soups[44].find_all('table'):\n",
    "    # print(x)\n",
    "    for no, y in enumerate(x.find_all('td')):\n",
    "        for z in y.find_all(text=True):\n",
    "            paragraph += z.replace('\\n', '') + ' '\n",
    "        \n",
    "        \n",
    "#paragraph += "
   ]
  },
  {
   "cell_type": "code",
   "execution_count": 855,
   "metadata": {},
   "outputs": [],
   "source": [
    "info = re.findall(r\"Total Confirmed Cases Hospitalized Deaths ([0-9]+) ([0-9]+) ([0-9]+)\", paragraph)"
   ]
  },
  {
   "cell_type": "code",
   "execution_count": 856,
   "metadata": {},
   "outputs": [
    {
     "data": {
      "text/plain": [
       "[]"
      ]
     },
     "execution_count": 856,
     "metadata": {},
     "output_type": "execute_result"
    }
   ],
   "source": [
    "info"
   ]
  },
  {
   "cell_type": "code",
   "execution_count": 857,
   "metadata": {},
   "outputs": [],
   "source": [
    "df.loc[44, name] = 1019\n",
    "df.loc[44, string_] = 36\n",
    "df.loc[44, test_admin] = 9218\n"
   ]
  },
  {
   "cell_type": "code",
   "execution_count": null,
   "metadata": {},
   "outputs": [],
   "source": []
  },
  {
   "cell_type": "markdown",
   "metadata": {},
   "source": [
    "## Santa Cruz\n"
   ]
  },
  {
   "cell_type": "code",
   "execution_count": 858,
   "metadata": {},
   "outputs": [
    {
     "data": {
      "text/plain": [
       "'http://www.santacruzhealth.com/HSAHome/HSADivisions/PublicHealth/CommunicableDiseaseControl/Coronavirus.aspx'"
      ]
     },
     "execution_count": 858,
     "metadata": {},
     "output_type": "execute_result"
    }
   ],
   "source": [
    "df.loc[45, 'Website'] "
   ]
  },
  {
   "cell_type": "code",
   "execution_count": 859,
   "metadata": {},
   "outputs": [],
   "source": [
    "paragraph = ''\n",
    "for x in soups[45].find_all('div', class_='Normal'):\n",
    "    for y in x.find_all('td'):\n",
    "        text = y.find_all('p')\n",
    "        for z in y.find_all('p'):\n",
    "            paragraph += z.find(text=True).replace('\\xa0', \"\") + ' '\n",
    "            \n",
    "results = re.findall(r'Cases/Deathsas of 0[0-9]/[0-9]+/20 [0-9]+:[0-9]+[ap]m ([0-9]+)/ ([0-9]+)', paragraph)\n",
    "results\n",
    "cases = results[0][0]\n",
    "deaths=results[0][1]"
   ]
  },
  {
   "cell_type": "code",
   "execution_count": 860,
   "metadata": {},
   "outputs": [
    {
     "data": {
      "text/plain": [
       "'Verified Cases/Deathsas of 04/02/20 10:53am 57/ 1 3/31/20 UPDATED 3/29/20  3/25/20  3/26/20  3/24/20  3/23/20  3/23/20  3/23/20  3/23/20  3/22/20  3/20/20  '"
      ]
     },
     "execution_count": 860,
     "metadata": {},
     "output_type": "execute_result"
    }
   ],
   "source": [
    "paragraph"
   ]
  },
  {
   "cell_type": "code",
   "execution_count": 861,
   "metadata": {},
   "outputs": [],
   "source": [
    "df.loc[45, name]= cases\n",
    "df.loc[45, string_] = deaths"
   ]
  },
  {
   "cell_type": "code",
   "execution_count": null,
   "metadata": {},
   "outputs": [],
   "source": []
  },
  {
   "cell_type": "markdown",
   "metadata": {},
   "source": [
    "## Shasta"
   ]
  },
  {
   "cell_type": "code",
   "execution_count": 862,
   "metadata": {},
   "outputs": [],
   "source": [
    "df.loc[46, 'Website'] = 'https://www.co.shasta.ca.us/covid-19/overview'"
   ]
  },
  {
   "cell_type": "code",
   "execution_count": 863,
   "metadata": {},
   "outputs": [],
   "source": [
    "info = []\n",
    "for x in soups[46].find_all('table'):\n",
    "    for y in x.find_all('td'):\n",
    "        info.append(y.find(text=True))"
   ]
  },
  {
   "cell_type": "code",
   "execution_count": 864,
   "metadata": {},
   "outputs": [],
   "source": [
    "paragraph = regex_paragraph_1(info)"
   ]
  },
  {
   "cell_type": "code",
   "execution_count": 865,
   "metadata": {},
   "outputs": [],
   "source": [
    "cases = re.search(r'Total Confirmed Cases [0-9]+', paragraph).group()\n",
    "cases = re.search(r'[0-9]+', cases).group()\n",
    "\n",
    "deaths =  re.search(r'Deaths [0-9]+', paragraph).group()\n",
    "deaths =  re.search(r'[0-9]+', deaths).group()"
   ]
  },
  {
   "cell_type": "code",
   "execution_count": 866,
   "metadata": {},
   "outputs": [
    {
     "data": {
      "text/plain": [
       "['Total Confirmed Cases',\n",
       " '7',\n",
       " 'People who tested negative',\n",
       " '370',\n",
       " 'Travel Related',\n",
       " '4',\n",
       " 'Person-to-Person Spread ',\n",
       " '2',\n",
       " 'Community Acquired ',\n",
       " '1',\n",
       " 'Deaths',\n",
       " '1']"
      ]
     },
     "execution_count": 866,
     "metadata": {},
     "output_type": "execute_result"
    }
   ],
   "source": [
    "info"
   ]
  },
  {
   "cell_type": "code",
   "execution_count": 867,
   "metadata": {},
   "outputs": [],
   "source": [
    "df.loc[46, name]= cases\n",
    "df.loc[46, string_]= deaths"
   ]
  },
  {
   "cell_type": "markdown",
   "metadata": {},
   "source": [
    "## SIERRA"
   ]
  },
  {
   "cell_type": "code",
   "execution_count": 868,
   "metadata": {},
   "outputs": [],
   "source": [
    "df.loc[47, 'Website'] = 'http://sierracounty.ca.gov/582/Coronavirus-COVID-19'"
   ]
  },
  {
   "cell_type": "code",
   "execution_count": 869,
   "metadata": {},
   "outputs": [],
   "source": [
    "soups[47] = run_bs4('http://sierracounty.ca.gov/582/Coronavirus-COVID-19')"
   ]
  },
  {
   "cell_type": "code",
   "execution_count": 870,
   "metadata": {},
   "outputs": [],
   "source": [
    "info = []\n",
    "for x in soups[47].find_all('table'):\n",
    "    for y in x.find_all('tr'):\n",
    "        for z in y.find_all(text=True):\n",
    "            if '\\n' not in z:\n",
    "                info.append(z)\n",
    "        \n",
    "        "
   ]
  },
  {
   "cell_type": "code",
   "execution_count": 871,
   "metadata": {},
   "outputs": [
    {
     "data": {
      "text/plain": [
       "['Approximate # of Tests in Sierra County',\n",
       " 'Thursday, April 2, 2020 11:00 am',\n",
       " '# of Test Administered',\n",
       " '7',\n",
       " '# of Pending Test Results',\n",
       " '0',\n",
       " '# of Negative Test Results',\n",
       " '7',\n",
       " '# of Positive COVID-19 Cases',\n",
       " '0']"
      ]
     },
     "execution_count": 871,
     "metadata": {},
     "output_type": "execute_result"
    }
   ],
   "source": [
    "info"
   ]
  },
  {
   "cell_type": "code",
   "execution_count": 872,
   "metadata": {},
   "outputs": [],
   "source": [
    "paragraph = regex_paragraph_1(info)"
   ]
  },
  {
   "cell_type": "code",
   "execution_count": 873,
   "metadata": {},
   "outputs": [
    {
     "data": {
      "text/plain": [
       "('7', ' 0')"
      ]
     },
     "execution_count": 873,
     "metadata": {},
     "output_type": "execute_result"
    }
   ],
   "source": [
    "cases = re.search(r'# of Positive COVID-19 Cases [0-9]+', paragraph).group()\n",
    "cases = re.search(r' [0-9]+', cases).group()\n",
    "\n",
    "tests =  re.search(r'# of Test Administered [0-9]+', paragraph).group()\n",
    "tests =  re.search(r'[0-9]+', tests).group()\n",
    "tests, cases"
   ]
  },
  {
   "cell_type": "code",
   "execution_count": 874,
   "metadata": {},
   "outputs": [],
   "source": [
    "df.loc[47, name]= cases\n",
    "df.loc[47, string_]= cases\n",
    "df.loc[47, test_admin]= tests"
   ]
  },
  {
   "cell_type": "markdown",
   "metadata": {},
   "source": [
    "## Siskiyou"
   ]
  },
  {
   "cell_type": "code",
   "execution_count": 875,
   "metadata": {},
   "outputs": [
    {
     "name": "stdout",
     "output_type": "stream",
     "text": [
      "http://www.co.siskiyou.ca.us/content/public-health-division\n"
     ]
    }
   ],
   "source": [
    "print(df.loc[48, 'Website'] )"
   ]
  },
  {
   "cell_type": "code",
   "execution_count": 960,
   "metadata": {},
   "outputs": [],
   "source": [
    "with open('../webpages/Public Health _ Siskiyou County California.mhtml', 'r') as htm:\n",
    "    soups[48] = htm.read()"
   ]
  },
  {
   "cell_type": "code",
   "execution_count": 961,
   "metadata": {},
   "outputs": [],
   "source": [
    "soups[48] = bs4.BeautifulSoup(soups[48])"
   ]
  },
  {
   "cell_type": "code",
   "execution_count": 965,
   "metadata": {},
   "outputs": [
    {
     "data": {
      "text/plain": [
       "'3 TOTAL CONFIRMED POSITIVE CASES 0 TOTAL ACTIVE CONFIRMED POSITIVE CASES 80 TOTAL NEGATIVE TESTS 10 TOTAL PENDING TESTS 0 TOTAL DEATHS IN SISKIYOU COUNTY 93 TOTAL TESTED IN SISKIYOU COUNTY '"
      ]
     },
     "execution_count": 965,
     "metadata": {},
     "output_type": "execute_result"
    }
   ],
   "source": [
    "info = []\n",
    "for x in soups[48].find_all('table'):\n",
    "    for y in x.find_all('td'):\n",
    "        \n",
    "        for z in y.find_all(text=True):\n",
    "            if z != '\\n':\n",
    "                info.append(z)\n",
    "paragraph = regex_paragraph_1(info[:12])\n",
    "paragraph"
   ]
  },
  {
   "cell_type": "code",
   "execution_count": 969,
   "metadata": {},
   "outputs": [],
   "source": [
    "\n",
    "cases = re.findall(r'([0-9]+) TOTAL CONFIRMED POSITIVE', paragraph)[0]\n",
    "\n",
    "tests =  re.findall(r'([0-9]+) TOTAL TEST', paragraph)[0]\n",
    "\n",
    "deaths =  re.findall(r'([0-9]+) TOTAL DEATHS', paragraph)[0]\n",
    "df.loc[48, name]= cases\n",
    "df.loc[48, string_]= deaths\n",
    "df.loc[48, test_admin]= tests"
   ]
  },
  {
   "cell_type": "markdown",
   "metadata": {},
   "source": [
    "## Solano"
   ]
  },
  {
   "cell_type": "code",
   "execution_count": 880,
   "metadata": {},
   "outputs": [],
   "source": [
    "df.loc[49, 'Website'] = 'http://www.solanocounty.com/depts/ph/ncov.asp'"
   ]
  },
  {
   "cell_type": "code",
   "execution_count": 970,
   "metadata": {},
   "outputs": [
    {
     "name": "stdout",
     "output_type": "stream",
     "text": [
      "http://www.solanocounty.com/depts/ph/ncov.asp\n"
     ]
    }
   ],
   "source": [
    "print(df.loc[49, 'Website'])"
   ]
  },
  {
   "cell_type": "code",
   "execution_count": 881,
   "metadata": {
    "scrolled": false
   },
   "outputs": [
    {
     "name": "stderr",
     "output_type": "stream",
     "text": [
      "Some characters could not be decoded, and were replaced with REPLACEMENT CHARACTER.\n"
     ]
    }
   ],
   "source": [
    "run_bs4('https://admin.solanocounty.com:4433/civicax/filebank/blobdload.aspx?BlobID=31871');"
   ]
  },
  {
   "cell_type": "code",
   "execution_count": 974,
   "metadata": {},
   "outputs": [],
   "source": [
    "df.loc[49, name] = 61\n",
    "df.loc[49, string_] = 1"
   ]
  },
  {
   "cell_type": "markdown",
   "metadata": {},
   "source": [
    "## Sonoma"
   ]
  },
  {
   "cell_type": "code",
   "execution_count": 884,
   "metadata": {},
   "outputs": [
    {
     "name": "stdout",
     "output_type": "stream",
     "text": [
      "https://socoemergency.org/\n"
     ]
    }
   ],
   "source": [
    "print(df.loc[50, 'Website'])"
   ]
  },
  {
   "cell_type": "code",
   "execution_count": 975,
   "metadata": {},
   "outputs": [],
   "source": [
    "with open('../webpages/Novel Coronavirus - Sonoma County Emergency and Preparedness Information.mhtml', 'r') as htm:\n",
    "    soups[50] = htm.read()"
   ]
  },
  {
   "cell_type": "code",
   "execution_count": 976,
   "metadata": {},
   "outputs": [],
   "source": [
    "soups[50] = bs4.BeautifulSoup(soups[50])"
   ]
  },
  {
   "cell_type": "code",
   "execution_count": 977,
   "metadata": {},
   "outputs": [],
   "source": [
    "info=[]\n",
    "for x in soups[50].find_all('div'):\n",
    "    for y in x.find_all('p'):\n",
    "        for z in y.find_all(text=True):\n",
    "            if len(z) >0:\n",
    "                info.append(z)"
   ]
  },
  {
   "cell_type": "code",
   "execution_count": 978,
   "metadata": {},
   "outputs": [
    {
     "data": {
      "text/plain": [
       "('95', '1', '1915', '15')"
      ]
     },
     "execution_count": 978,
     "metadata": {},
     "output_type": "execute_result"
    }
   ],
   "source": [
    "paragraph = regex_paragraph_1(info[1:11])\n",
    "cases = re.findall(r'Total Cases ([0-9]+)', paragraph)[0]\n",
    "tests =  re.findall(r'Tests ([0-9]+)', paragraph)[0]\n",
    "\n",
    "deaths =  re.findall(r'Deaths ([0-9]+)', paragraph)[0]\n",
    "\n",
    "recovered_ = re.findall(r'Recovered ([0-9]+)', paragraph)[0]\n",
    "\n",
    "\n",
    "cases, deaths, tests, recovered_"
   ]
  },
  {
   "cell_type": "code",
   "execution_count": 979,
   "metadata": {},
   "outputs": [],
   "source": [
    "df.loc[50, name]= cases\n",
    "df.loc[50, string_]= deaths\n",
    "df.loc[50, test_admin]= tests\n",
    "df.loc[50, recovered]= recovered_\n"
   ]
  },
  {
   "cell_type": "markdown",
   "metadata": {},
   "source": [
    "## Stanislaus"
   ]
  },
  {
   "cell_type": "code",
   "execution_count": 890,
   "metadata": {},
   "outputs": [],
   "source": [
    "df.loc[51, 'Website'] = 'http://www.schsa.org/PublicHealth/pages/corona-virus/'\n"
   ]
  },
  {
   "cell_type": "code",
   "execution_count": 891,
   "metadata": {},
   "outputs": [],
   "source": [
    "# soups[51]= run_bs4('http://www.schsa.org/PublicHealth/pages/corona-virus/')"
   ]
  },
  {
   "cell_type": "code",
   "execution_count": 892,
   "metadata": {},
   "outputs": [
    {
     "name": "stdout",
     "output_type": "stream",
     "text": [
      "\n",
      "50\n",
      "\n",
      "\n",
      "1337\n",
      "\n",
      "\n",
      "0\n",
      "\n"
     ]
    }
   ],
   "source": [
    "paragraph = ''\n",
    "for z in soups[51].find_all('p'):\n",
    "    for b in z.find_all('strong'):\n",
    "        if 'Cases' in str(b):\n",
    "            paragraph += (b.find(text=True))+ \" \"\n",
    "        if 'Tests' in str(b):\n",
    "            paragraph += (b.find(text=True))+ \" \"\n",
    "        if 'Deaths' in str(b):\n",
    "            paragraph += (b.find(text=True))+ \" \"\n",
    "\n",
    "for x in soups[51].find_all('div', class_='counter'):\n",
    "    for y in x.find_all(text=True): \n",
    "        print(y.strip())\n",
    "        if len(y) >1:\n",
    "            paragraph += y.strip()+ \" \"\n",
    "            no +=1\n",
    "            \n",
    "results = re.findall(r'Positive Cases Negative Tests Related Deaths ([0-9]+) ([0-9]+) ([0-9])+', paragraph)\n",
    "\n",
    "cases = results[0][0]\n",
    "tests = int(results[0][1]) + int(results[0][0])\n",
    "deaths = results[0][2]"
   ]
  },
  {
   "cell_type": "code",
   "execution_count": 893,
   "metadata": {},
   "outputs": [],
   "source": [
    "df.loc[51, name]= cases\n",
    "df.loc[51, string_]= deaths\n",
    "df.loc[51, test_admin]= tests\n"
   ]
  },
  {
   "cell_type": "markdown",
   "metadata": {},
   "source": [
    "## Sutter"
   ]
  },
  {
   "cell_type": "code",
   "execution_count": 894,
   "metadata": {},
   "outputs": [
    {
     "name": "stdout",
     "output_type": "stream",
     "text": [
      "https://www.suttercounty.org/doc/government/depts/cao/em/coronavirus\n"
     ]
    }
   ],
   "source": [
    "print(df.loc[52, 'Website']) "
   ]
  },
  {
   "cell_type": "code",
   "execution_count": 895,
   "metadata": {},
   "outputs": [],
   "source": [
    "# soups[52] = run_bs4(df.loc[52, 'Website'])"
   ]
  },
  {
   "cell_type": "code",
   "execution_count": 896,
   "metadata": {},
   "outputs": [
    {
     "data": {
      "text/plain": [
       "('348', [('14', '1'), ('8', '0')])"
      ]
     },
     "execution_count": 896,
     "metadata": {},
     "output_type": "execute_result"
    }
   ],
   "source": [
    "paragraph = ' '\n",
    "for x in soups[52].find_all('table'):\n",
    "    for y in x.find_all(text=True):\n",
    "        y = y.replace('\\n', \"\")\n",
    "        if len(y) > 0:\n",
    "            paragraph += y.replace('\\n', \"\") + ' '\n",
    "            \n",
    "for x in soups[52].find_all('p'):\n",
    "    if 'tests' in str(x):\n",
    "        paragraph += x.find(text=True) + ' ' \n",
    "\n",
    "\n",
    "tests = re.findall(r'reported ([0-9]+) COVID-19 tests', paragraph)\n",
    "\n",
    "tests = tests[0]    \n",
    "results = re.findall(r'Confirmed ([0-9]+) Deceased ([0-9]+)', paragraph)\n",
    "tests, results"
   ]
  },
  {
   "cell_type": "code",
   "execution_count": 897,
   "metadata": {},
   "outputs": [
    {
     "data": {
      "text/plain": [
       "' Confirmed 22 Hospitalized 3 Confirmed 14 Deceased 1 Confirmed 8 Deceased 0 \\nThe Yuba-Sutter Public Health Department released the following information about testing rates in Yuba and Sutter counties. As of today, Sunday, March 29, 2020, a reported 348 COVID-19 tests have been administered between those authorized by Public Health and those performed at private labs, with 215 results received and 133 tests pending. Out of the 215 results received, there have been 10 positives and 205 negatives. Because there is only a requirement to report confirmed cases to Public Health, there is long lag time in getting information about all completed tests. The reported numbers will always lag behind the actual number of tests.\\n '"
      ]
     },
     "execution_count": 897,
     "metadata": {},
     "output_type": "execute_result"
    }
   ],
   "source": [
    "paragraph"
   ]
  },
  {
   "cell_type": "code",
   "execution_count": 898,
   "metadata": {},
   "outputs": [],
   "source": [
    "cases = results[0][0]\n",
    "deaths = results[0][1]"
   ]
  },
  {
   "cell_type": "code",
   "execution_count": 899,
   "metadata": {},
   "outputs": [],
   "source": [
    "df.loc[52, name] = cases\n",
    "df.loc[52, test_admin] = tests\n",
    "df.loc[59, name] = results[0][1]"
   ]
  },
  {
   "cell_type": "markdown",
   "metadata": {},
   "source": [
    "## Tehama"
   ]
  },
  {
   "cell_type": "code",
   "execution_count": 900,
   "metadata": {},
   "outputs": [
    {
     "name": "stdout",
     "output_type": "stream",
     "text": [
      "https://www.tehamacohealthservices.net/news-events/news/\n"
     ]
    }
   ],
   "source": [
    "print(df.loc[53, 'Website']) "
   ]
  },
  {
   "cell_type": "markdown",
   "metadata": {},
   "source": [
    "##  Trinty"
   ]
  },
  {
   "cell_type": "code",
   "execution_count": 901,
   "metadata": {},
   "outputs": [
    {
     "name": "stdout",
     "output_type": "stream",
     "text": [
      "https://www.trinitycounty.org/Public-Health\n"
     ]
    }
   ],
   "source": [
    "print(df.loc[54, 'Website'])"
   ]
  },
  {
   "cell_type": "markdown",
   "metadata": {},
   "source": [
    "## Tulare"
   ]
  },
  {
   "cell_type": "code",
   "execution_count": 902,
   "metadata": {},
   "outputs": [
    {
     "name": "stdout",
     "output_type": "stream",
     "text": [
      "https://tchhsa.org/eng/index.cfm/public-health/covid-19-updates-novel-coronavirus/\n"
     ]
    }
   ],
   "source": [
    "print(df.loc[55, 'Website'])"
   ]
  },
  {
   "cell_type": "code",
   "execution_count": 903,
   "metadata": {},
   "outputs": [],
   "source": [
    "soups[55] = run_bs4('https://tchhsa.org/eng/index.cfm/public-health/covid-19-updates-novel-coronavirus/')"
   ]
  },
  {
   "cell_type": "code",
   "execution_count": 980,
   "metadata": {},
   "outputs": [],
   "source": [
    "with open('../webpages/English - COVID-19 (Novel Coronavirus).mhtml', 'r') as htm:\n",
    "    soups[55] = htm.read()\n",
    "soups[55] = bs4.BeautifulSoup(soups[55])"
   ]
  },
  {
   "cell_type": "code",
   "execution_count": 981,
   "metadata": {},
   "outputs": [],
   "source": [
    "paragraph = \"\"\n",
    "for x in soups[55].find_all('div', class_= '3D\"col-6'):\n",
    "    for y in  x.find_all(text=True):\n",
    "        if len(y) > 0:\n",
    "            paragraph += y.strip().replace('=\\n', '') + \" \""
   ]
  },
  {
   "cell_type": "code",
   "execution_count": 982,
   "metadata": {},
   "outputs": [
    {
     "data": {
      "text/plain": [
       "' 74 - Total positive cases  17= - Travelers  39 - Person to Person/Contact &nbsp; 18 - Unknown/Under Investigation &nbsp; 4 - Recovered Cases  2 - Deaths  178 - Under self-quarantine and being monitored by Tulare County Public Health officials. '"
      ]
     },
     "execution_count": 982,
     "metadata": {},
     "output_type": "execute_result"
    }
   ],
   "source": [
    "paragraph"
   ]
  },
  {
   "cell_type": "code",
   "execution_count": 983,
   "metadata": {},
   "outputs": [],
   "source": [
    "cases = re.findall(r'([0-9]+) - Total positive cases', paragraph)[0]"
   ]
  },
  {
   "cell_type": "code",
   "execution_count": 984,
   "metadata": {},
   "outputs": [],
   "source": [
    "deaths = re.findall(r'([0-9]+) - Deaths', paragraph)[0]\n",
    "recovered_ = re.findall(r'([0-9]+) - Recovered Cases', paragraph)[0]"
   ]
  },
  {
   "cell_type": "code",
   "execution_count": 985,
   "metadata": {},
   "outputs": [],
   "source": [
    "df.loc[55, name]= cases\n",
    "df.loc[55, string_] = deaths\n",
    "df.loc[55, recovered] = recovered_\n",
    "\n"
   ]
  },
  {
   "cell_type": "markdown",
   "metadata": {},
   "source": [
    "## Tuolumne"
   ]
  },
  {
   "cell_type": "code",
   "execution_count": 910,
   "metadata": {},
   "outputs": [
    {
     "name": "stdout",
     "output_type": "stream",
     "text": [
      "https://www.tuolumnecounty.ca.gov/250/Public-Health\n"
     ]
    }
   ],
   "source": [
    "print(df.loc[56, 'Website'])"
   ]
  },
  {
   "cell_type": "code",
   "execution_count": 911,
   "metadata": {},
   "outputs": [],
   "source": [
    "paragraph = ''\n",
    "for x in soups[56].find_all('table'):\n",
    "    # print(x)\n",
    "    for y, z in zip(x.find_all('th'),  x.find_all('td')):\n",
    "        for a in z.find_all(text=True):\n",
    "            paragraph += a.strip() +' '\n",
    "            \n",
    "        for b in y.find_all(text=True):\n",
    "            paragraph += b.strip() +' '\n",
    "        "
   ]
  },
  {
   "cell_type": "code",
   "execution_count": 912,
   "metadata": {},
   "outputs": [
    {
     "data": {
      "text/plain": [
       "'216  TOTAL TESTED 10  TOTAL PENDING 205  TOTAL NEGATIVE 1 TOTAL POSITIVE 0 TOTAL DEATHS 1 TOTAL KNOWN NON-RESIDENT CASES '"
      ]
     },
     "execution_count": 912,
     "metadata": {},
     "output_type": "execute_result"
    }
   ],
   "source": [
    "paragraph"
   ]
  },
  {
   "cell_type": "code",
   "execution_count": 913,
   "metadata": {},
   "outputs": [
    {
     "data": {
      "text/plain": [
       "('1', '0', '216')"
      ]
     },
     "execution_count": 913,
     "metadata": {},
     "output_type": "execute_result"
    }
   ],
   "source": [
    "cases = re.findall(r'([0-9]+) TOTAL POSITIVE', paragraph)[0]\n",
    "tests =  re.findall(r'([0-9]+)  TOTAL TESTED', paragraph)[0]\n",
    "\n",
    "deaths =  re.findall(r'([0-9]+) TOTAL DEATHS', paragraph)[0]\n",
    "\n",
    "\n",
    "\n",
    "\n",
    "cases, deaths, tests"
   ]
  },
  {
   "cell_type": "code",
   "execution_count": 914,
   "metadata": {},
   "outputs": [],
   "source": [
    "df.loc[56, name]= cases\n",
    "df.loc[56, string_]= deaths\n",
    "df.loc[56, test_admin]= tests"
   ]
  },
  {
   "cell_type": "markdown",
   "metadata": {},
   "source": [
    "## VENTURA"
   ]
  },
  {
   "cell_type": "code",
   "execution_count": 915,
   "metadata": {},
   "outputs": [],
   "source": [
    "df.loc[57, 'Website'] = 'https://www.vcemergency.com/'"
   ]
  },
  {
   "cell_type": "code",
   "execution_count": 916,
   "metadata": {},
   "outputs": [],
   "source": [
    "# soups[57] = run_bs4('https://www.vcemergency.com/')"
   ]
  },
  {
   "cell_type": "code",
   "execution_count": 917,
   "metadata": {},
   "outputs": [],
   "source": [
    "info = []\n",
    "for x in soups[57].find_all('table'):\n",
    "    for y in x.find_all('td'):\n",
    "        info.append(y.find(text=True).replace(',', ''))\n",
    "                        "
   ]
  },
  {
   "cell_type": "code",
   "execution_count": 918,
   "metadata": {},
   "outputs": [],
   "source": [
    "paragraph = regex_paragraph_1(info)"
   ]
  },
  {
   "cell_type": "code",
   "execution_count": 919,
   "metadata": {},
   "outputs": [
    {
     "data": {
      "text/plain": [
       "'Summary Data # New Cases 11 TOTAL CASES 160 Recovered Cases 31 Ever 34 Active Cases Under Quarantine 124 DEATHS 5 People Tested as of March 31st 2987 Confirmed Cases # Travel Related 9 Person-to-person acquired 34 Community acquired 32 Under investigation 85 Total 160 Cases by Age # Age 0-17 3 Age 18-24 14 Age 25-44 36 Age 45-64 65 Age 65+ 42 Unknown 0 Total 160 City # Camarillo 24 Moorpark 12 Ojai 2 Oxnard 24 Port Hueneme 2 Santa Paula 2 Simi Valley 27 Thousand Oaks 33 Ventura 18 Unincorporated Area – West 2 Unincorporated Area – East 14 Total 160 City/Unincorporated Area # Camarillo 24 Lake Sherwood 2 Moorpark 12 Newbury Park 3 Oak Park 7 Oak View 1 Ojai 2 Oxnard 24 Piru 1 Port Hueneme 2 Santa Paula 2 Santa Rosa Valley 1 Simi Valley 27 Somis 1 Thousand Oaks 33 Ventura 18 Total 160 '"
      ]
     },
     "execution_count": 919,
     "metadata": {},
     "output_type": "execute_result"
    }
   ],
   "source": [
    "paragraph"
   ]
  },
  {
   "cell_type": "code",
   "execution_count": 920,
   "metadata": {},
   "outputs": [],
   "source": [
    "df.loc[57, name]= re.findall(r'TOTAL CASES ([0-9]+)', paragraph)[0]\n",
    "df.loc[57, string_]= re.findall(r'DEATHS ([0-9]+)', paragraph)[0]\n",
    "df.loc[57, recovered]= re.findall(r'Recovered Cases ([0-9]+)', paragraph)[0]\n",
    "df.loc[57, test_admin]= re.findall(r'Tested as of [A-Z][a-z]+ [0-9]+[a-z]+ ([0-9]+)', paragraph)[0]\n"
   ]
  },
  {
   "cell_type": "markdown",
   "metadata": {},
   "source": [
    "## YOLO"
   ]
  },
  {
   "cell_type": "code",
   "execution_count": 921,
   "metadata": {},
   "outputs": [
    {
     "name": "stdout",
     "output_type": "stream",
     "text": [
      "https://www.yolocounty.org/health-human-services/adults/communicable-disease-investigation-and-control/novel-coronavirus-2019\n"
     ]
    }
   ],
   "source": [
    "print(df.loc[58, 'Website'] )"
   ]
  },
  {
   "cell_type": "code",
   "execution_count": 922,
   "metadata": {},
   "outputs": [],
   "source": [
    "df.loc[58, name] = 24\n",
    "df.loc[58, string_] = 1"
   ]
  },
  {
   "cell_type": "markdown",
   "metadata": {},
   "source": [
    "## Yuba"
   ]
  },
  {
   "cell_type": "code",
   "execution_count": 923,
   "metadata": {},
   "outputs": [],
   "source": [
    "df.loc[59, 'Website'] = 'https://www.yuba.org/coronavirus/'"
   ]
  },
  {
   "cell_type": "code",
   "execution_count": 924,
   "metadata": {},
   "outputs": [],
   "source": [
    "soups[59] = run_bs4('https://www.yuba.org/coronavirus/')"
   ]
  },
  {
   "cell_type": "code",
   "execution_count": 925,
   "metadata": {},
   "outputs": [],
   "source": [
    "paragraph = ' '\n",
    "for x in soups[52].find_all('table'):\n",
    "    for y in x.find_all(text=True):\n",
    "        y = y.replace('\\n', \"\")\n",
    "        if len(y) > 0:\n",
    "            paragraph += y.replace('\\n', \"\") + ' '\n",
    "            \n",
    "for x in soups[52].find_all('p'):\n",
    "    if 'tests' in str(x):\n",
    "        paragraph += x.find(text=True) + ' ' \n",
    "\n",
    "\n",
    "tests = re.findall(r'reported ([0-9]+) COVID-19 tests', paragraph)\n",
    "\n",
    "tests = tests[0]    \n",
    "results = re.findall(r'Confirmed ([0-9]+) Deceased ([0-9]+)', paragraph)\n",
    "cases = results[1][0]\n",
    "deaths = results[1][1]\n"
   ]
  },
  {
   "cell_type": "code",
   "execution_count": 926,
   "metadata": {},
   "outputs": [],
   "source": [
    "df.loc[59, name] = cases\n",
    "df.loc[59, string_] = deaths\n",
    "df.loc[59, test_admin] = tests"
   ]
  },
  {
   "cell_type": "code",
   "execution_count": 930,
   "metadata": {},
   "outputs": [],
   "source": [
    "# GOOD LINK TO DOUBLE CHECK DATA COLLECTED\n",
    "'https://www.latimes.com/projects/california-coronavirus-cases-tracking-outbreak/'"
   ]
  },
  {
   "cell_type": "code",
   "execution_count": null,
   "metadata": {},
   "outputs": [],
   "source": [
    "df.to_csv(\"../output_files/CA_COUNTY_COVID\"+today+'.csv', index=False)"
   ]
  },
  {
   "cell_type": "code",
   "execution_count": 935,
   "metadata": {},
   "outputs": [
    {
     "name": "stdout",
     "output_type": "stream",
     "text": [
      "CA_Coronovirus_Websites_by_county.csv data_slo.csv\r\n",
      "california_counties_FIP.csv           la_times_Ap_2.csv\r\n"
     ]
    }
   ],
   "source": [
    "! ls ../data"
   ]
  },
  {
   "cell_type": "code",
   "execution_count": 938,
   "metadata": {},
   "outputs": [],
   "source": [
    "df_la=pd.read_csv('../data/la_times_Ap_2.csv', delimiter='\\t')"
   ]
  },
  {
   "cell_type": "code",
   "execution_count": 986,
   "metadata": {},
   "outputs": [],
   "source": [
    "la_count = df_la.merge(df[['County',name, string_]],how='right', right_on = 'County', left_on='County')\n"
   ]
  },
  {
   "cell_type": "code",
   "execution_count": 987,
   "metadata": {},
   "outputs": [
    {
     "data": {
      "text/html": [
       "<div>\n",
       "<style scoped>\n",
       "    .dataframe tbody tr th:only-of-type {\n",
       "        vertical-align: middle;\n",
       "    }\n",
       "\n",
       "    .dataframe tbody tr th {\n",
       "        vertical-align: top;\n",
       "    }\n",
       "\n",
       "    .dataframe thead th {\n",
       "        text-align: right;\n",
       "    }\n",
       "</style>\n",
       "<table border=\"1\" class=\"dataframe\">\n",
       "  <thead>\n",
       "    <tr style=\"text-align: right;\">\n",
       "      <th></th>\n",
       "      <th>County</th>\n",
       "      <th>Deaths</th>\n",
       "      <th>Cases</th>\n",
       "      <th>2020-04-02 Confirmed Cases</th>\n",
       "      <th>2020-04-02 Deaths</th>\n",
       "    </tr>\n",
       "  </thead>\n",
       "  <tbody>\n",
       "    <tr>\n",
       "      <th>0</th>\n",
       "      <td>Los Angeles</td>\n",
       "      <td>80.0</td>\n",
       "      <td>4,071</td>\n",
       "      <td>3869</td>\n",
       "      <td>78</td>\n",
       "    </tr>\n",
       "    <tr>\n",
       "      <th>1</th>\n",
       "      <td>Santa Clara</td>\n",
       "      <td>36.0</td>\n",
       "      <td>1,019</td>\n",
       "      <td>1019</td>\n",
       "      <td>36</td>\n",
       "    </tr>\n",
       "    <tr>\n",
       "      <th>2</th>\n",
       "      <td>San Diego</td>\n",
       "      <td>16.0</td>\n",
       "      <td>966</td>\n",
       "      <td>849</td>\n",
       "      <td>15</td>\n",
       "    </tr>\n",
       "    <tr>\n",
       "      <th>3</th>\n",
       "      <td>Orange</td>\n",
       "      <td>13.0</td>\n",
       "      <td>656</td>\n",
       "      <td>656</td>\n",
       "      <td>13</td>\n",
       "    </tr>\n",
       "    <tr>\n",
       "      <th>4</th>\n",
       "      <td>Riverside</td>\n",
       "      <td>14.0</td>\n",
       "      <td>493</td>\n",
       "      <td>493</td>\n",
       "      <td>14</td>\n",
       "    </tr>\n",
       "    <tr>\n",
       "      <th>5</th>\n",
       "      <td>San Mateo</td>\n",
       "      <td>10.0</td>\n",
       "      <td>453</td>\n",
       "      <td>309</td>\n",
       "      <td>10</td>\n",
       "    </tr>\n",
       "    <tr>\n",
       "      <th>6</th>\n",
       "      <td>San Francisco</td>\n",
       "      <td>7.0</td>\n",
       "      <td>450</td>\n",
       "      <td>450</td>\n",
       "      <td>7</td>\n",
       "    </tr>\n",
       "    <tr>\n",
       "      <th>7</th>\n",
       "      <td>Alameda</td>\n",
       "      <td>9.0</td>\n",
       "      <td>396</td>\n",
       "      <td>373</td>\n",
       "      <td>9</td>\n",
       "    </tr>\n",
       "    <tr>\n",
       "      <th>8</th>\n",
       "      <td>Contra Costa</td>\n",
       "      <td>3.0</td>\n",
       "      <td>276</td>\n",
       "      <td>276</td>\n",
       "      <td>3</td>\n",
       "    </tr>\n",
       "    <tr>\n",
       "      <th>9</th>\n",
       "      <td>San Bernardino</td>\n",
       "      <td>6.0</td>\n",
       "      <td>254</td>\n",
       "      <td>254</td>\n",
       "      <td>6</td>\n",
       "    </tr>\n",
       "    <tr>\n",
       "      <th>10</th>\n",
       "      <td>San Joaquin</td>\n",
       "      <td>9.0</td>\n",
       "      <td>173</td>\n",
       "      <td>173</td>\n",
       "      <td>9</td>\n",
       "    </tr>\n",
       "    <tr>\n",
       "      <th>11</th>\n",
       "      <td>Ventura</td>\n",
       "      <td>5.0</td>\n",
       "      <td>160</td>\n",
       "      <td>160</td>\n",
       "      <td>5</td>\n",
       "    </tr>\n",
       "    <tr>\n",
       "      <th>12</th>\n",
       "      <td>Kern</td>\n",
       "      <td>1.0</td>\n",
       "      <td>139</td>\n",
       "      <td>155</td>\n",
       "      <td>1</td>\n",
       "    </tr>\n",
       "    <tr>\n",
       "      <th>13</th>\n",
       "      <td>Santa Barbara</td>\n",
       "      <td>1.0</td>\n",
       "      <td>111</td>\n",
       "      <td>88</td>\n",
       "      <td>NaN</td>\n",
       "    </tr>\n",
       "    <tr>\n",
       "      <th>14</th>\n",
       "      <td>Marin</td>\n",
       "      <td>6.0</td>\n",
       "      <td>108</td>\n",
       "      <td>108</td>\n",
       "      <td>4</td>\n",
       "    </tr>\n",
       "    <tr>\n",
       "      <th>15</th>\n",
       "      <td>Fresno</td>\n",
       "      <td>0.0</td>\n",
       "      <td>94</td>\n",
       "      <td>45</td>\n",
       "      <td>NaN</td>\n",
       "    </tr>\n",
       "    <tr>\n",
       "      <th>16</th>\n",
       "      <td>Sonoma</td>\n",
       "      <td>1.0</td>\n",
       "      <td>91</td>\n",
       "      <td>95</td>\n",
       "      <td>1</td>\n",
       "    </tr>\n",
       "    <tr>\n",
       "      <th>17</th>\n",
       "      <td>Placer</td>\n",
       "      <td>2.0</td>\n",
       "      <td>90</td>\n",
       "      <td>90</td>\n",
       "      <td>2</td>\n",
       "    </tr>\n",
       "    <tr>\n",
       "      <th>18</th>\n",
       "      <td>San Luis Obispo</td>\n",
       "      <td>0.0</td>\n",
       "      <td>89</td>\n",
       "      <td>80</td>\n",
       "      <td>10</td>\n",
       "    </tr>\n",
       "    <tr>\n",
       "      <th>19</th>\n",
       "      <td>Tulare</td>\n",
       "      <td>2.0</td>\n",
       "      <td>74</td>\n",
       "      <td>74</td>\n",
       "      <td>2</td>\n",
       "    </tr>\n",
       "    <tr>\n",
       "      <th>20</th>\n",
       "      <td>Santa Cruz</td>\n",
       "      <td>1.0</td>\n",
       "      <td>57</td>\n",
       "      <td>57</td>\n",
       "      <td>1</td>\n",
       "    </tr>\n",
       "    <tr>\n",
       "      <th>21</th>\n",
       "      <td>Solano</td>\n",
       "      <td>0.0</td>\n",
       "      <td>54</td>\n",
       "      <td>61</td>\n",
       "      <td>1</td>\n",
       "    </tr>\n",
       "    <tr>\n",
       "      <th>22</th>\n",
       "      <td>Monterey</td>\n",
       "      <td>2.0</td>\n",
       "      <td>48</td>\n",
       "      <td>48</td>\n",
       "      <td>2</td>\n",
       "    </tr>\n",
       "    <tr>\n",
       "      <th>23</th>\n",
       "      <td>Stanislaus</td>\n",
       "      <td>0.0</td>\n",
       "      <td>44</td>\n",
       "      <td>50</td>\n",
       "      <td>0</td>\n",
       "    </tr>\n",
       "    <tr>\n",
       "      <th>24</th>\n",
       "      <td>Imperial</td>\n",
       "      <td>0.0</td>\n",
       "      <td>43</td>\n",
       "      <td>43</td>\n",
       "      <td>NaN</td>\n",
       "    </tr>\n",
       "    <tr>\n",
       "      <th>25</th>\n",
       "      <td>Humboldt</td>\n",
       "      <td>0.0</td>\n",
       "      <td>37</td>\n",
       "      <td>28</td>\n",
       "      <td>NaN</td>\n",
       "    </tr>\n",
       "    <tr>\n",
       "      <th>26</th>\n",
       "      <td>Yolo</td>\n",
       "      <td>1.0</td>\n",
       "      <td>28</td>\n",
       "      <td>24</td>\n",
       "      <td>1</td>\n",
       "    </tr>\n",
       "    <tr>\n",
       "      <th>27</th>\n",
       "      <td>Nevada</td>\n",
       "      <td>0.0</td>\n",
       "      <td>26</td>\n",
       "      <td>26</td>\n",
       "      <td>0</td>\n",
       "    </tr>\n",
       "    <tr>\n",
       "      <th>28</th>\n",
       "      <td>Madera</td>\n",
       "      <td>1.0</td>\n",
       "      <td>25</td>\n",
       "      <td>25</td>\n",
       "      <td>1</td>\n",
       "    </tr>\n",
       "    <tr>\n",
       "      <th>29</th>\n",
       "      <td>San Benito</td>\n",
       "      <td>1.0</td>\n",
       "      <td>23</td>\n",
       "      <td>23</td>\n",
       "      <td>1</td>\n",
       "    </tr>\n",
       "    <tr>\n",
       "      <th>30</th>\n",
       "      <td>Napa</td>\n",
       "      <td>1.0</td>\n",
       "      <td>18</td>\n",
       "      <td>18</td>\n",
       "      <td>1</td>\n",
       "    </tr>\n",
       "    <tr>\n",
       "      <th>31</th>\n",
       "      <td>El Dorado</td>\n",
       "      <td>0.0</td>\n",
       "      <td>18</td>\n",
       "      <td>18</td>\n",
       "      <td>0</td>\n",
       "    </tr>\n",
       "    <tr>\n",
       "      <th>32</th>\n",
       "      <td>Mono</td>\n",
       "      <td>1.0</td>\n",
       "      <td>18</td>\n",
       "      <td>18</td>\n",
       "      <td>1</td>\n",
       "    </tr>\n",
       "    <tr>\n",
       "      <th>33</th>\n",
       "      <td>Merced</td>\n",
       "      <td>0.0</td>\n",
       "      <td>16</td>\n",
       "      <td>16</td>\n",
       "      <td>0</td>\n",
       "    </tr>\n",
       "    <tr>\n",
       "      <th>34</th>\n",
       "      <td>Sutter</td>\n",
       "      <td>1.0</td>\n",
       "      <td>14</td>\n",
       "      <td>14</td>\n",
       "      <td>NaN</td>\n",
       "    </tr>\n",
       "    <tr>\n",
       "      <th>35</th>\n",
       "      <td>Inyo</td>\n",
       "      <td>0.0</td>\n",
       "      <td>10</td>\n",
       "      <td>9</td>\n",
       "      <td>0</td>\n",
       "    </tr>\n",
       "    <tr>\n",
       "      <th>36</th>\n",
       "      <td>Butte</td>\n",
       "      <td>0.0</td>\n",
       "      <td>9</td>\n",
       "      <td>10</td>\n",
       "      <td>0</td>\n",
       "    </tr>\n",
       "    <tr>\n",
       "      <th>37</th>\n",
       "      <td>Yuba</td>\n",
       "      <td>0.0</td>\n",
       "      <td>8</td>\n",
       "      <td>8</td>\n",
       "      <td>0</td>\n",
       "    </tr>\n",
       "    <tr>\n",
       "      <th>38</th>\n",
       "      <td>Shasta</td>\n",
       "      <td>1.0</td>\n",
       "      <td>7</td>\n",
       "      <td>7</td>\n",
       "      <td>1</td>\n",
       "    </tr>\n",
       "    <tr>\n",
       "      <th>39</th>\n",
       "      <td>Kings</td>\n",
       "      <td>0.0</td>\n",
       "      <td>5</td>\n",
       "      <td>5</td>\n",
       "      <td>NaN</td>\n",
       "    </tr>\n",
       "    <tr>\n",
       "      <th>40</th>\n",
       "      <td>Mendocino</td>\n",
       "      <td>0.0</td>\n",
       "      <td>4</td>\n",
       "      <td>4</td>\n",
       "      <td>NaN</td>\n",
       "    </tr>\n",
       "    <tr>\n",
       "      <th>41</th>\n",
       "      <td>Siskiyou</td>\n",
       "      <td>0.0</td>\n",
       "      <td>3</td>\n",
       "      <td>3</td>\n",
       "      <td>0</td>\n",
       "    </tr>\n",
       "    <tr>\n",
       "      <th>42</th>\n",
       "      <td>Amador</td>\n",
       "      <td>0.0</td>\n",
       "      <td>3</td>\n",
       "      <td>3</td>\n",
       "      <td>NaN</td>\n",
       "    </tr>\n",
       "    <tr>\n",
       "      <th>43</th>\n",
       "      <td>Calaveras</td>\n",
       "      <td>0.0</td>\n",
       "      <td>3</td>\n",
       "      <td>3</td>\n",
       "      <td>NaN</td>\n",
       "    </tr>\n",
       "    <tr>\n",
       "      <th>44</th>\n",
       "      <td>Glenn</td>\n",
       "      <td>0.0</td>\n",
       "      <td>2</td>\n",
       "      <td>2</td>\n",
       "      <td>NaN</td>\n",
       "    </tr>\n",
       "    <tr>\n",
       "      <th>45</th>\n",
       "      <td>Alpine</td>\n",
       "      <td>0.0</td>\n",
       "      <td>1</td>\n",
       "      <td>NaN</td>\n",
       "      <td>NaN</td>\n",
       "    </tr>\n",
       "    <tr>\n",
       "      <th>46</th>\n",
       "      <td>Tehama</td>\n",
       "      <td>0.0</td>\n",
       "      <td>1</td>\n",
       "      <td>NaN</td>\n",
       "      <td>NaN</td>\n",
       "    </tr>\n",
       "    <tr>\n",
       "      <th>47</th>\n",
       "      <td>Plumas</td>\n",
       "      <td>0.0</td>\n",
       "      <td>1</td>\n",
       "      <td>1</td>\n",
       "      <td>NaN</td>\n",
       "    </tr>\n",
       "    <tr>\n",
       "      <th>48</th>\n",
       "      <td>Del Norte</td>\n",
       "      <td>0.0</td>\n",
       "      <td>1</td>\n",
       "      <td>3</td>\n",
       "      <td>NaN</td>\n",
       "    </tr>\n",
       "    <tr>\n",
       "      <th>49</th>\n",
       "      <td>Colusa</td>\n",
       "      <td>0.0</td>\n",
       "      <td>1</td>\n",
       "      <td>1</td>\n",
       "      <td>NaN</td>\n",
       "    </tr>\n",
       "    <tr>\n",
       "      <th>50</th>\n",
       "      <td>Tuolumne</td>\n",
       "      <td>0.0</td>\n",
       "      <td>1</td>\n",
       "      <td>1</td>\n",
       "      <td>0</td>\n",
       "    </tr>\n",
       "    <tr>\n",
       "      <th>51</th>\n",
       "      <td>Berkeley</td>\n",
       "      <td>NaN</td>\n",
       "      <td>NaN</td>\n",
       "      <td>23</td>\n",
       "      <td>NaN</td>\n",
       "    </tr>\n",
       "    <tr>\n",
       "      <th>52</th>\n",
       "      <td>Lake</td>\n",
       "      <td>NaN</td>\n",
       "      <td>NaN</td>\n",
       "      <td>NaN</td>\n",
       "      <td>NaN</td>\n",
       "    </tr>\n",
       "    <tr>\n",
       "      <th>53</th>\n",
       "      <td>Lassen</td>\n",
       "      <td>NaN</td>\n",
       "      <td>NaN</td>\n",
       "      <td>NaN</td>\n",
       "      <td>NaN</td>\n",
       "    </tr>\n",
       "    <tr>\n",
       "      <th>54</th>\n",
       "      <td>Long Beach</td>\n",
       "      <td>NaN</td>\n",
       "      <td>NaN</td>\n",
       "      <td>139</td>\n",
       "      <td>1</td>\n",
       "    </tr>\n",
       "    <tr>\n",
       "      <th>55</th>\n",
       "      <td>Mariposa</td>\n",
       "      <td>NaN</td>\n",
       "      <td>NaN</td>\n",
       "      <td>0</td>\n",
       "      <td>0</td>\n",
       "    </tr>\n",
       "    <tr>\n",
       "      <th>56</th>\n",
       "      <td>Modoc</td>\n",
       "      <td>NaN</td>\n",
       "      <td>NaN</td>\n",
       "      <td>NaN</td>\n",
       "      <td>NaN</td>\n",
       "    </tr>\n",
       "    <tr>\n",
       "      <th>57</th>\n",
       "      <td>Pasadena</td>\n",
       "      <td>NaN</td>\n",
       "      <td>NaN</td>\n",
       "      <td>37</td>\n",
       "      <td>0</td>\n",
       "    </tr>\n",
       "    <tr>\n",
       "      <th>58</th>\n",
       "      <td>Sierra</td>\n",
       "      <td>NaN</td>\n",
       "      <td>NaN</td>\n",
       "      <td>0</td>\n",
       "      <td>0</td>\n",
       "    </tr>\n",
       "    <tr>\n",
       "      <th>59</th>\n",
       "      <td>Trinity</td>\n",
       "      <td>NaN</td>\n",
       "      <td>NaN</td>\n",
       "      <td>NaN</td>\n",
       "      <td>NaN</td>\n",
       "    </tr>\n",
       "  </tbody>\n",
       "</table>\n",
       "</div>"
      ],
      "text/plain": [
       "             County  Deaths  Cases 2020-04-02 Confirmed Cases  \\\n",
       "0       Los Angeles    80.0  4,071                       3869   \n",
       "1       Santa Clara    36.0  1,019                       1019   \n",
       "2         San Diego    16.0    966                        849   \n",
       "3            Orange    13.0    656                        656   \n",
       "4         Riverside    14.0    493                        493   \n",
       "5         San Mateo    10.0    453                        309   \n",
       "6     San Francisco     7.0    450                        450   \n",
       "7           Alameda     9.0    396                        373   \n",
       "8      Contra Costa     3.0    276                        276   \n",
       "9    San Bernardino     6.0    254                        254   \n",
       "10      San Joaquin     9.0    173                        173   \n",
       "11          Ventura     5.0    160                        160   \n",
       "12             Kern     1.0    139                        155   \n",
       "13    Santa Barbara     1.0    111                         88   \n",
       "14            Marin     6.0    108                        108   \n",
       "15           Fresno     0.0     94                         45   \n",
       "16           Sonoma     1.0     91                         95   \n",
       "17           Placer     2.0     90                         90   \n",
       "18  San Luis Obispo     0.0     89                         80   \n",
       "19           Tulare     2.0     74                         74   \n",
       "20       Santa Cruz     1.0     57                         57   \n",
       "21           Solano     0.0     54                         61   \n",
       "22         Monterey     2.0     48                         48   \n",
       "23       Stanislaus     0.0     44                         50   \n",
       "24         Imperial     0.0     43                         43   \n",
       "25         Humboldt     0.0     37                         28   \n",
       "26             Yolo     1.0     28                         24   \n",
       "27           Nevada     0.0     26                         26   \n",
       "28           Madera     1.0     25                         25   \n",
       "29       San Benito     1.0     23                         23   \n",
       "30             Napa     1.0     18                         18   \n",
       "31        El Dorado     0.0     18                         18   \n",
       "32             Mono     1.0     18                         18   \n",
       "33           Merced     0.0     16                         16   \n",
       "34           Sutter     1.0     14                         14   \n",
       "35             Inyo     0.0     10                          9   \n",
       "36            Butte     0.0      9                         10   \n",
       "37             Yuba     0.0      8                          8   \n",
       "38           Shasta     1.0      7                          7   \n",
       "39            Kings     0.0      5                          5   \n",
       "40        Mendocino     0.0      4                          4   \n",
       "41         Siskiyou     0.0      3                          3   \n",
       "42           Amador     0.0      3                          3   \n",
       "43        Calaveras     0.0      3                          3   \n",
       "44            Glenn     0.0      2                          2   \n",
       "45           Alpine     0.0      1                        NaN   \n",
       "46           Tehama     0.0      1                        NaN   \n",
       "47           Plumas     0.0      1                          1   \n",
       "48        Del Norte     0.0      1                          3   \n",
       "49           Colusa     0.0      1                          1   \n",
       "50         Tuolumne     0.0      1                          1   \n",
       "51         Berkeley     NaN    NaN                         23   \n",
       "52             Lake     NaN    NaN                        NaN   \n",
       "53           Lassen     NaN    NaN                        NaN   \n",
       "54       Long Beach     NaN    NaN                        139   \n",
       "55         Mariposa     NaN    NaN                          0   \n",
       "56            Modoc     NaN    NaN                        NaN   \n",
       "57         Pasadena     NaN    NaN                         37   \n",
       "58           Sierra     NaN    NaN                          0   \n",
       "59          Trinity     NaN    NaN                        NaN   \n",
       "\n",
       "   2020-04-02 Deaths  \n",
       "0                 78  \n",
       "1                 36  \n",
       "2                 15  \n",
       "3                 13  \n",
       "4                 14  \n",
       "5                 10  \n",
       "6                  7  \n",
       "7                  9  \n",
       "8                  3  \n",
       "9                  6  \n",
       "10                 9  \n",
       "11                 5  \n",
       "12                 1  \n",
       "13               NaN  \n",
       "14                 4  \n",
       "15               NaN  \n",
       "16                 1  \n",
       "17                 2  \n",
       "18                10  \n",
       "19                 2  \n",
       "20                 1  \n",
       "21                 1  \n",
       "22                 2  \n",
       "23                 0  \n",
       "24               NaN  \n",
       "25               NaN  \n",
       "26                 1  \n",
       "27                 0  \n",
       "28                 1  \n",
       "29                 1  \n",
       "30                 1  \n",
       "31                 0  \n",
       "32                 1  \n",
       "33                 0  \n",
       "34               NaN  \n",
       "35                 0  \n",
       "36                 0  \n",
       "37                 0  \n",
       "38                 1  \n",
       "39               NaN  \n",
       "40               NaN  \n",
       "41                 0  \n",
       "42               NaN  \n",
       "43               NaN  \n",
       "44               NaN  \n",
       "45               NaN  \n",
       "46               NaN  \n",
       "47               NaN  \n",
       "48               NaN  \n",
       "49               NaN  \n",
       "50                 0  \n",
       "51               NaN  \n",
       "52               NaN  \n",
       "53               NaN  \n",
       "54                 1  \n",
       "55                 0  \n",
       "56               NaN  \n",
       "57                 0  \n",
       "58                 0  \n",
       "59               NaN  "
      ]
     },
     "execution_count": 987,
     "metadata": {},
     "output_type": "execute_result"
    }
   ],
   "source": [
    "la_count"
   ]
  },
  {
   "cell_type": "code",
   "execution_count": 928,
   "metadata": {},
   "outputs": [
    {
     "data": {
      "text/plain": [
       "0      264\n",
       "1      NaN\n",
       "2        3\n",
       "3       23\n",
       "4       10\n",
       "5        3\n",
       "6        1\n",
       "7      276\n",
       "8        3\n",
       "9       18\n",
       "10      45\n",
       "11       2\n",
       "12      28\n",
       "13      43\n",
       "14       9\n",
       "15     155\n",
       "16       5\n",
       "17     NaN\n",
       "18     NaN\n",
       "19     139\n",
       "20    3869\n",
       "21      25\n",
       "22     108\n",
       "23       0\n",
       "24       4\n",
       "25      16\n",
       "26     NaN\n",
       "27      18\n",
       "28      48\n",
       "29      15\n",
       "30      26\n",
       "31     656\n",
       "32      37\n",
       "33      90\n",
       "34       1\n",
       "35     493\n",
       "36      23\n",
       "37     254\n",
       "38     849\n",
       "39     450\n",
       "40     173\n",
       "41      80\n",
       "42     309\n",
       "43      88\n",
       "44    1019\n",
       "45      57\n",
       "46       7\n",
       "47       0\n",
       "48       3\n",
       "49      31\n",
       "50      66\n",
       "51      50\n",
       "52      14\n",
       "53     NaN\n",
       "54     NaN\n",
       "55      45\n",
       "56       1\n",
       "57     160\n",
       "58      24\n",
       "59       8\n",
       "Name: 2020-04-02 Confirmed Cases, dtype: object"
      ]
     },
     "execution_count": 928,
     "metadata": {},
     "output_type": "execute_result"
    }
   ],
   "source": [
    "df[name]"
   ]
  },
  {
   "cell_type": "code",
   "execution_count": 988,
   "metadata": {},
   "outputs": [
    {
     "data": {
      "text/plain": [
       "10344"
      ]
     },
     "execution_count": 988,
     "metadata": {},
     "output_type": "execute_result"
    }
   ],
   "source": [
    "df[name].fillna(0).astype(int).sum()"
   ]
  },
  {
   "cell_type": "code",
   "execution_count": null,
   "metadata": {},
   "outputs": [],
   "source": []
  }
 ],
 "metadata": {
  "kernelspec": {
   "display_name": "Python 3",
   "language": "python",
   "name": "python3"
  },
  "language_info": {
   "codemirror_mode": {
    "name": "ipython",
    "version": 3
   },
   "file_extension": ".py",
   "mimetype": "text/x-python",
   "name": "python",
   "nbconvert_exporter": "python",
   "pygments_lexer": "ipython3",
   "version": "3.7.6"
  }
 },
 "nbformat": 4,
 "nbformat_minor": 4
}
